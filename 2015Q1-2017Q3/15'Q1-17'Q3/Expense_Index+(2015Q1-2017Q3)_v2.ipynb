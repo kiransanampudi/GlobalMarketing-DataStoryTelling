{
 "cells": [
  {
   "cell_type": "markdown",
   "metadata": {},
   "source": [
    "<div style=\"width:100%;\"> \n",
    "<div style=\"float:left; width:70%;\">\n",
    "<h1 style=\"color:#0078c9;\"> Expense Index Q3 2017</h1>\n",
    "</div>\n",
    "<div style=\"float:right; width:30%;\">\n",
    "<img src=\"https://seeklogo.com/images/C/concur-logo-F866D9D47F-seeklogo.com.png\" align=\"right\" width=\"45px\" height=\"45px\"/>\n",
    "</div>\n",
    "</div>"
   ]
  },
  {
   "cell_type": "markdown",
   "metadata": {},
   "source": [
    "## Overview :\n",
    "The Concur Index is a first of its kind indicator for trends in business spend, based on a consistent set of over 8k+ Concur customers, who combined processed over $68B of expense reimbursement happened in 2016. We are using Concur-owned expense data to provide a recurring Index and companion stories that inform the market and speak to emerging trends. We will release the Index on a quarterly basis during the earnings period following quarter close."
   ]
  },
  {
   "cell_type": "markdown",
   "metadata": {},
   "source": [
    "### 17'Q3 Summary :\n",
    "8,392 companies\n",
    "$186,701,266,247 of spend over 11 quarters\n",
    "1. YoY Trend got rised from 2017Q1 to 17'Q3.\n",
    "2. In 17'Q3 , Spend got incresed by 7.67% compare to previous year"
   ]
  },
  {
   "cell_type": "markdown",
   "metadata": {},
   "source": [
    "### Sector:\n",
    "1. Most of the industries are showing healthy growth in 17'Q3 compare to previous yesr.\n",
    "2. financial services(5.33%), Public Services(10.71%), Services(9.47%), Consumer (8.82%) & Healthcare(9.48%) are having high growth point in the most recent quarter 17'Q3\n",
    "\n",
    "3. Each Sector is holding # accounts as follows\n",
    "  \n",
    "   a. Discrete Manufacturing(2,276)\n",
    "   \n",
    "   b. Services(1,896) \n",
    "   \n",
    "   c. Consumer(1861) \n",
    "   \n",
    "   d. Financial Services(1,137) \n",
    "   \n",
    "   e. Public Services(621) \n",
    "   \n",
    "   f. Energy & Natural Resources(308) \n",
    "   \n",
    "   g. Healthcare(246) \n",
    "   \n",
    "   h. NULL(46) \n",
    "   \n",
    "   i. Telecom (1)\n",
    "   \n",
    "4. Telecom dropped from 16'Q3 and showing growth from 17'Q1 onwards"
   ]
  },
  {
   "cell_type": "markdown",
   "metadata": {},
   "source": [
    "### ENT vs SMN : \n",
    "Enterprise and SMN Index companies have very similiar average growth patterns from 2016'Q1 to 17'Q2. But ENT companies got rised in 17'Q3\n",
    "1. ENT companies got incresed in 17'Q3(7.08%) and bounced between positive and negative growth\n",
    "2. ENT companies are following the overall trend.\n",
    "3. SMN companies got dropped slightly in 17'Q3(10.5%).\n"
   ]
  },
  {
   "cell_type": "markdown",
   "metadata": {},
   "source": [
    "### Geo Summary (Head quarter Region)\n",
    "1. APAC & EMEA regions are rised in 17'Q3 compare to previous year.But AMERICAS is showing slightly drop in 17'Q3.\n",
    "2. EMEA & APAC are following the similar trend of overall YoY\n",
    "\n",
    "### Geo Summary (Transaction Region)\n",
    "1. APAC and EMEA companies have almoast very similiar average growth patterns throughout the year(2017)\n",
    "2. The EMEA Index group bounced between positive and negative growth, marked by a major drop from Q2 2016 to Q4 2016\n",
    "and ended at the highest growth among regions in 17'Q3.\n",
    "3. APAC growth was consistenly positive, with a peak in Q1 and an adjustment down in Q2 2017, ending with above +11% in Q3 2017.\n",
    "4. Spend share across different regions as follows \n",
    "   \n",
    "   a. Americas : 67%\n",
    "   \n",
    "   b. EMEA : 12.1%\n",
    "   \n",
    "   c. APAC : 9.2%"
   ]
  },
  {
   "cell_type": "markdown",
   "metadata": {},
   "source": [
    "### Spend Buckets and thier behaviours: \n",
    "Bucket 1 Companies (0 - 1M): Trend is increasing from 2016'Q4 to 17'Q3\n",
    "\n",
    "Bucket 2 Companies (1M - 10M): Huge drop in 16'Q2 and increased from 16'Q4 to 17'Q2\n",
    "\n",
    "Bucket 3 Companies (10M - 100M): Huge spike in 17'Q1 and dropped in 17'Q2.17'Q3 is showing huge increase.\n",
    "\n",
    "Bucket 4 Companies (100M - 500M): companies YoY growth is incresing continuously starting from 16'Q2 to 17'Q3\n",
    "\n",
    "Bucket 5 Companies (> 500M): Companies spend is dropped from 16'Q1 till 16'Q3 and showing mixed behaviour from (16'Q3 - 17'Q3)"
   ]
  },
  {
   "cell_type": "code",
   "execution_count": 7,
   "metadata": {},
   "outputs": [
    {
     "data": {
      "text/html": [
       "'E:/Expense_Index_Floders/2017Q3_Expense_Index/EXPENSE INDEX REFRESH 17Q3/Submit_Date/2017Q3 (submit_date_key)/2015Q1-2017Q3'"
      ],
      "text/latex": [
       "'E:/Expense\\_Index\\_Floders/2017Q3\\_Expense\\_Index/EXPENSE INDEX REFRESH 17Q3/Submit\\_Date/2017Q3 (submit\\_date\\_key)/2015Q1-2017Q3'"
      ],
      "text/markdown": [
       "'E:/Expense_Index_Floders/2017Q3_Expense_Index/EXPENSE INDEX REFRESH 17Q3/Submit_Date/2017Q3 (submit_date_key)/2015Q1-2017Q3'"
      ],
      "text/plain": [
       "[1] \"E:/Expense_Index_Floders/2017Q3_Expense_Index/EXPENSE INDEX REFRESH 17Q3/Submit_Date/2017Q3 (submit_date_key)/2015Q1-2017Q3\""
      ]
     },
     "metadata": {},
     "output_type": "display_data"
    }
   ],
   "source": [
    "setwd(\"E:/Expense_Index_Floders/2017Q3_Expense_Index/EXPENSE INDEX REFRESH 17Q3/Submit_Date/2017Q3 (submit_date_key)/2015Q1-2017Q3\")\n",
    "getwd()"
   ]
  },
  {
   "cell_type": "code",
   "execution_count": 34,
   "metadata": {
    "collapsed": true
   },
   "outputs": [],
   "source": [
    "#-------------Required libraries---------------------------------------------------------\n",
    "options( warn = -1 )\n",
    "library(ggplot2)\n",
    "library(ggthemes)\n",
    "library(extrafont)\n",
    "library(dplyr)\n",
    "library(scales)\n",
    "library(bdscale)\n",
    "library(tidyr)\n",
    "options(scipen=1000000)"
   ]
  },
  {
   "cell_type": "code",
   "execution_count": 9,
   "metadata": {
    "collapsed": true
   },
   "outputs": [],
   "source": [
    "#---------------Input data Files---------------------------------------------------------\n",
    "#---------------Global performnace on YOY growth ----------------------------------------\n",
    "ExpenseIndex_17Q3 <-read.csv(\"Expenseindex_2015Q1_2017Q3.csv\")\n",
    "#colnames(ExpenseIndex_17Q3)\n",
    "\n",
    "#---------------Segment wise performnace  ----------------------------------------\n",
    "ExpenseIndex_Segment <-read.csv(\"Expenseindex_2015Q1_2017Q3_segment.csv\")\n",
    "#colnames(ExpenseIndex_SMN)\n",
    "\n",
    "#---------------Headquarter region wise performnace  -------------------------------------------\n",
    "ExpenseIndex_Geo <-read.csv(\"Expenseindex_2015Q1_2017Q3_Report_Country_GEO.csv\")\n",
    "#colnames(ExpenseIndex_Geo)\n",
    "\n",
    "#---------------Industry wise performnace  -------------------------------------------\n",
    "ExpenseIndex_Industry <-read.csv(\"Expenseindex_2015Q1_2017Q3_Industry.csv\")\n",
    "#colnames(ExpenseIndex_Industry)\n",
    "\n",
    "#---------------Transaction region wise performnace  -------------------------------------------\n",
    "ExpenseIndex_Transaction_Country <-read.csv(\"Expenseindex_2015Q1_2017Q3_Transaction_country_GEO_v1.csv\")\n",
    "#colnames(ExpenseIndex_Transaction_Country )\n"
   ]
  },
  {
   "cell_type": "markdown",
   "metadata": {},
   "source": [
    "### Overall Summary :"
   ]
  },
  {
   "cell_type": "code",
   "execution_count": 10,
   "metadata": {
    "collapsed": true
   },
   "outputs": [],
   "source": [
    "ExpenseIndex_YOY<-ExpenseIndex_17Q3 %>% \n",
    "mutate(YOY_1615Q1= ((X2016Q1-X2015Q1)/X2015Q1)*((X2015Q1+X2016Q1)/sum(X2015Q1+X2016Q1)),\n",
    "       YOY_1615Q2= ((X2016Q2-X2015Q2)/X2015Q2)*((X2015Q2+X2016Q2)/sum(X2015Q2+X2016Q2)),\n",
    "       YOY_1615Q3= ((X2016Q3-X2015Q3)/X2015Q3)*((X2015Q3+X2016Q3)/sum(X2015Q3+X2016Q3)),\n",
    "       YOY_1615Q4= ((X2016Q4-X2015Q4)/X2015Q4)*((X2015Q4+X2016Q4)/sum(X2015Q4+X2016Q4)),\n",
    "       YOY_1716Q1= ((X2017Q1-X2016Q1)/X2016Q1)*((X2016Q1+X2017Q1)/sum(X2016Q1+X2017Q1)),\n",
    "       YOY_1716Q2= ((X2017Q2-X2016Q2)/X2016Q2)*((X2016Q2+X2017Q2)/sum(X2016Q2+X2017Q2)),\n",
    "       YOY_1716Q3= ((X2017Q3-X2016Q3)/X2016Q3)*((X2016Q3+X2017Q3)/sum(X2016Q3+X2017Q3))\n",
    "      )\n",
    "\n",
    "Quarter<- c(\"2016Q1\",\"2016Q2\",\"2016Q3\",\"2016Q4\",\"2017Q1\",\"2017Q2\",\"2017Q3\")\n",
    "Weighted_YoY<-c(\n",
    "round(sum(ExpenseIndex_YOY$YOY_1615Q1)*100,2),\n",
    "round(sum(ExpenseIndex_YOY$YOY_1615Q2)*100,2),\n",
    "round(sum(ExpenseIndex_YOY$YOY_1615Q3)*100,2),\n",
    "round(sum(ExpenseIndex_YOY$YOY_1615Q4)*100,2),\n",
    "round(sum(ExpenseIndex_YOY$YOY_1716Q1)*100,2),\n",
    "round(sum(ExpenseIndex_YOY$YOY_1716Q2)*100,2),\n",
    "round(sum(ExpenseIndex_YOY$YOY_1716Q3)*100,2)\n",
    ")\n",
    "Weighted_YoY_17Q3 <-data.frame(Quarter,Weighted_YoY)\n"
   ]
  },
  {
   "cell_type": "code",
   "execution_count": 11,
   "metadata": {},
   "outputs": [
    {
     "data": {},
     "metadata": {},
     "output_type": "display_data"
    },
    {
     "data": {
      "image/png": "[encoded data removed]",
      "text/plain": [
       "plot without title"
      ]
     },
     "metadata": {},
     "output_type": "display_data"
    }
   ],
   "source": [
    "options(repr.plot.width=7, repr.plot.height=3)\n",
    "ggplot(aes(x=Quarter,y=Weighted_YoY,label=Weighted_YoY),data=Weighted_YoY_17Q3)+ \n",
    "geom_bar(stat=\"identity\",fill=\"#0078c9\")+\n",
    "theme_minimal()+\n",
    "theme(title =element_text(size=7))+\n",
    "theme(axis.text.x = element_text(colour=\"grey20\",size=7),,axis.text.y = element_text(colour=\"grey20\",size=7))+\n",
    "geom_text(size = 2, position = position_stack(vjust = 0.5))+\n",
    "labs(title = \"Spend weighted YoY growth per quarter\",x=\"Quarter\",y=\"YoY growth weighted by company spend\")"
   ]
  },
  {
   "cell_type": "code",
   "execution_count": 12,
   "metadata": {
    "collapsed": true
   },
   "outputs": [],
   "source": [
    "ExpenseIndex_Segment_YoY <-ExpenseIndex_Segment%>%group_by(Segment)%>%\n",
    "mutate(YOY_1615Q1= ((X2016Q1-X2015Q1)/X2015Q1)*((X2015Q1+X2016Q1)/sum(X2015Q1+X2016Q1)),\n",
    "       YOY_1615Q2= ((X2016Q2-X2015Q2)/X2015Q2)*((X2015Q2+X2016Q2)/sum(X2015Q2+X2016Q2)),\n",
    "       YOY_1615Q3= ((X2016Q3-X2015Q3)/X2015Q3)*((X2015Q3+X2016Q3)/sum(X2015Q3+X2016Q3)),\n",
    "       YOY_1615Q4= ((X2016Q4-X2015Q4)/X2015Q4)*((X2015Q4+X2016Q4)/sum(X2015Q4+X2016Q4)),\n",
    "       YOY_1716Q1= ((X2017Q1-X2016Q1)/X2016Q1)*((X2016Q1+X2017Q1)/sum(X2016Q1+X2017Q1)),\n",
    "      YOY_1716Q2= ((X2017Q2-X2016Q2)/X2016Q2)*((X2016Q2+X2017Q2)/sum(X2016Q2+X2017Q2)),\n",
    "      YOY_1716Q3= ((X2017Q3-X2016Q3)/X2016Q3)*((X2016Q3+X2017Q3)/sum(X2016Q3+X2017Q3))\n",
    "      )\n",
    "      \n",
    "ExpenseIndex_ENT_YoY<- subset(ExpenseIndex_Segment_YoY,Segment =='ENT')\n",
    "ExpenseIndex_SMN_YoY<- subset(ExpenseIndex_Segment_YoY,Segment =='SMN')\n",
    "Qtr<- c(\"2016Q1\",\"2016Q2\",\"2016Q3\",\"2016Q4\",\"2017Q1\",\"2017Q2\",\"2017Q3\",\n",
    "            \"2016Q1\",\"2016Q2\",\"2016Q3\",\"2016Q4\",\"2017Q1\",\"2017Q2\",\"2017Q3\")\n",
    "Segment<-c(\"ENT\",\"ENT\",\"ENT\",\"ENT\",\"ENT\",\"ENT\",\"ENT\",\"SMN\",\"SMN\",\"SMN\",\"SMN\",\"SMN\",\"SMN\",\"SMN\")\n",
    "Segment_YoY<-c(\n",
    "round(sum(ExpenseIndex_ENT_YoY$YOY_1615Q1)*100,2),\n",
    "round(sum(ExpenseIndex_ENT_YoY$YOY_1615Q2)*100,2),\n",
    "round(sum(ExpenseIndex_ENT_YoY$YOY_1615Q3)*100,2),\n",
    "round(sum(ExpenseIndex_ENT_YoY$YOY_1615Q4)*100,2),\n",
    "round(sum(ExpenseIndex_ENT_YoY$YOY_1716Q1)*100,2),\n",
    "round(sum(ExpenseIndex_ENT_YoY$YOY_1716Q2)*100,2),\n",
    "round(sum(ExpenseIndex_ENT_YoY$YOY_1716Q3)*100,2),\n",
    "round(sum(ExpenseIndex_SMN_YoY$YOY_1615Q1)*100,2),\n",
    "round(sum(ExpenseIndex_SMN_YoY$YOY_1615Q2)*100,2),\n",
    "round(sum(ExpenseIndex_SMN_YoY$YOY_1615Q3)*100,2),\n",
    "round(sum(ExpenseIndex_SMN_YoY$YOY_1615Q4)*100,2),\n",
    "round(sum(ExpenseIndex_SMN_YoY$YOY_1716Q1)*100,2),\n",
    "round(sum(ExpenseIndex_SMN_YoY$YOY_1716Q2)*100,2),\n",
    "round(sum(ExpenseIndex_SMN_YoY$YOY_1716Q3)*100,2)\n",
    ")\n",
    "Weighted_Segment_YoY <-data.frame(Qtr,Segment,Segment_YoY)"
   ]
  },
  {
   "cell_type": "code",
   "execution_count": 13,
   "metadata": {},
   "outputs": [
    {
     "data": {},
     "metadata": {},
     "output_type": "display_data"
    },
    {
     "data": {
      "image/png": "[encoded data removed]",
      "text/plain": [
       "plot without title"
      ]
     },
     "metadata": {},
     "output_type": "display_data"
    }
   ],
   "source": [
    "ggplot(Weighted_Segment_YoY,aes(x =Qtr,y=Segment_YoY,group=Segment,color=Segment))+\n",
    "geom_line(size =0.7)+\n",
    "geom_point(size =0.7)+\n",
    "theme_minimal()+ theme(legend.title=element_blank()) + scale_color_manual(values=c(\"#FF1234\", \"#0072B2\"))+ \n",
    "theme(title =element_text(size=8))+ theme(legend.position=\"bottom\")+\n",
    "theme(axis.text.x = element_text(colour=\"grey20\",size=7),axis.text.y = element_text(colour=\"grey20\",size=7))+\n",
    "labs(title = \" YoY growth in spend by segment \",x=\"Quarters\",y=\"YoY growth in spend\")"
   ]
  },
  {
   "cell_type": "code",
   "execution_count": 14,
   "metadata": {},
   "outputs": [
    {
     "data": {
      "text/html": [
       "<table>\n",
       "<thead><tr><th scope=col>Qtr</th><th scope=col>Segment</th><th scope=col>Segment_YoY</th></tr></thead>\n",
       "<tbody>\n",
       "\t<tr><td>2016Q1</td><td>ENT   </td><td> 5.38 </td></tr>\n",
       "\t<tr><td>2016Q2</td><td>ENT   </td><td> 2.90 </td></tr>\n",
       "\t<tr><td>2016Q3</td><td>ENT   </td><td> 1.44 </td></tr>\n",
       "\t<tr><td>2016Q4</td><td>ENT   </td><td> 2.33 </td></tr>\n",
       "\t<tr><td>2017Q1</td><td>ENT   </td><td> 5.53 </td></tr>\n",
       "\t<tr><td>2017Q2</td><td>ENT   </td><td> 5.75 </td></tr>\n",
       "\t<tr><td>2017Q3</td><td>ENT   </td><td> 7.08 </td></tr>\n",
       "\t<tr><td>2016Q1</td><td>SMN   </td><td>13.33 </td></tr>\n",
       "\t<tr><td>2016Q2</td><td>SMN   </td><td> 6.68 </td></tr>\n",
       "\t<tr><td>2016Q3</td><td>SMN   </td><td> 5.58 </td></tr>\n",
       "\t<tr><td>2016Q4</td><td>SMN   </td><td> 5.41 </td></tr>\n",
       "\t<tr><td>2017Q1</td><td>SMN   </td><td> 9.01 </td></tr>\n",
       "\t<tr><td>2017Q2</td><td>SMN   </td><td>10.89 </td></tr>\n",
       "\t<tr><td>2017Q3</td><td>SMN   </td><td>10.25 </td></tr>\n",
       "</tbody>\n",
       "</table>\n"
      ],
      "text/latex": [
       "\\begin{tabular}{r|lll}\n",
       " Qtr & Segment & Segment\\_YoY\\\\\n",
       "\\hline\n",
       "\t 2016Q1 & ENT    &  5.38 \\\\\n",
       "\t 2016Q2 & ENT    &  2.90 \\\\\n",
       "\t 2016Q3 & ENT    &  1.44 \\\\\n",
       "\t 2016Q4 & ENT    &  2.33 \\\\\n",
       "\t 2017Q1 & ENT    &  5.53 \\\\\n",
       "\t 2017Q2 & ENT    &  5.75 \\\\\n",
       "\t 2017Q3 & ENT    &  7.08 \\\\\n",
       "\t 2016Q1 & SMN    & 13.33 \\\\\n",
       "\t 2016Q2 & SMN    &  6.68 \\\\\n",
       "\t 2016Q3 & SMN    &  5.58 \\\\\n",
       "\t 2016Q4 & SMN    &  5.41 \\\\\n",
       "\t 2017Q1 & SMN    &  9.01 \\\\\n",
       "\t 2017Q2 & SMN    & 10.89 \\\\\n",
       "\t 2017Q3 & SMN    & 10.25 \\\\\n",
       "\\end{tabular}\n"
      ],
      "text/markdown": [
       "\n",
       "Qtr | Segment | Segment_YoY | \n",
       "|---|---|---|---|---|---|---|---|---|---|---|---|---|---|\n",
       "| 2016Q1 | ENT    |  5.38  | \n",
       "| 2016Q2 | ENT    |  2.90  | \n",
       "| 2016Q3 | ENT    |  1.44  | \n",
       "| 2016Q4 | ENT    |  2.33  | \n",
       "| 2017Q1 | ENT    |  5.53  | \n",
       "| 2017Q2 | ENT    |  5.75  | \n",
       "| 2017Q3 | ENT    |  7.08  | \n",
       "| 2016Q1 | SMN    | 13.33  | \n",
       "| 2016Q2 | SMN    |  6.68  | \n",
       "| 2016Q3 | SMN    |  5.58  | \n",
       "| 2016Q4 | SMN    |  5.41  | \n",
       "| 2017Q1 | SMN    |  9.01  | \n",
       "| 2017Q2 | SMN    | 10.89  | \n",
       "| 2017Q3 | SMN    | 10.25  | \n",
       "\n",
       "\n"
      ],
      "text/plain": [
       "   Qtr    Segment Segment_YoY\n",
       "1  2016Q1 ENT      5.38      \n",
       "2  2016Q2 ENT      2.90      \n",
       "3  2016Q3 ENT      1.44      \n",
       "4  2016Q4 ENT      2.33      \n",
       "5  2017Q1 ENT      5.53      \n",
       "6  2017Q2 ENT      5.75      \n",
       "7  2017Q3 ENT      7.08      \n",
       "8  2016Q1 SMN     13.33      \n",
       "9  2016Q2 SMN      6.68      \n",
       "10 2016Q3 SMN      5.58      \n",
       "11 2016Q4 SMN      5.41      \n",
       "12 2017Q1 SMN      9.01      \n",
       "13 2017Q2 SMN     10.89      \n",
       "14 2017Q3 SMN     10.25      "
      ]
     },
     "metadata": {},
     "output_type": "display_data"
    }
   ],
   "source": [
    "Weighted_Segment_YoY"
   ]
  },
  {
   "cell_type": "markdown",
   "metadata": {},
   "source": [
    "### Spend Buckets"
   ]
  },
  {
   "cell_type": "code",
   "execution_count": 15,
   "metadata": {
    "collapsed": true
   },
   "outputs": [],
   "source": [
    "ExpenseIndex_Buckets<-ExpenseIndex_17Q3%>%group_by(COMPANY_NAME)%>%\n",
    "mutate(total =X2015Q1+X2015Q2+X2015Q3+X2015Q4+X2016Q1+X2016Q2+X2016Q3+X2016Q4+X2017Q1+X2017Q2+X2017Q3)\n",
    "ExpenseIndex_Buckets$buckets <- rep(NA, nrow(ExpenseIndex_Buckets))\n",
    "ExpenseIndex_Buckets[ExpenseIndex_Buckets$total > 0 & ExpenseIndex_Buckets$total<= 1000000, ][, \"buckets\"] <- \"less than $ 1M\"\n",
    "ExpenseIndex_Buckets[ExpenseIndex_Buckets$total > 1000000 & ExpenseIndex_Buckets$total<= 10000000, ][, \"buckets\"] <- \"Between 1M to 10M\"\n",
    "ExpenseIndex_Buckets[ExpenseIndex_Buckets$total > 10000000 & ExpenseIndex_Buckets$total<= 100000000, ][, \"buckets\"] <- \"Between 10M to 100M\"\n",
    "ExpenseIndex_Buckets[ExpenseIndex_Buckets$total > 100000000 & ExpenseIndex_Buckets$total<= 500000000, ][, \"buckets\"] <- \"Between 100M to 500M\"\n",
    "ExpenseIndex_Buckets[ExpenseIndex_Buckets$total > 500000000 , ][, \"buckets\"] <- \"Greater than 500M\""
   ]
  },
  {
   "cell_type": "code",
   "execution_count": 16,
   "metadata": {
    "collapsed": true
   },
   "outputs": [],
   "source": [
    "ExpenseIndex_17Q3_bucket<-ExpenseIndex_Buckets%>%group_by(buckets)%>%\n",
    "mutate(\n",
    "       YOY_1615Q1= ((X2016Q1-X2015Q1)/X2015Q1)*((X2015Q1+X2016Q1)/sum(X2015Q1+X2016Q1)),\n",
    "       YOY_1615Q2= ((X2016Q2-X2015Q2)/X2015Q2)*((X2015Q2+X2016Q2)/sum(X2015Q2+X2016Q2)),\n",
    "       YOY_1615Q3= ((X2016Q3-X2015Q3)/X2015Q3)*((X2015Q3+X2016Q3)/sum(X2015Q3+X2016Q3)),\n",
    "       YOY_1615Q4= ((X2016Q4-X2015Q4)/X2015Q4)*((X2015Q4+X2016Q4)/sum(X2015Q4+X2016Q4)),\n",
    "       YOY_1716Q1= ((X2017Q1-X2016Q1)/X2016Q1)*((X2016Q1+X2017Q1)/sum(X2016Q1+X2017Q1)),\n",
    "       YOY_1716Q2= ((X2017Q2-X2016Q2)/X2016Q2)*((X2016Q2+X2017Q2)/sum(X2016Q2+X2017Q2)),\n",
    "       YOY_1716Q3= ((X2017Q3-X2016Q3)/X2016Q3)*((X2016Q3+X2017Q3)/sum(X2016Q3+X2017Q3))\n",
    "      )\n",
    "ExpenseIndex_bucket1_YoY_2<- subset(ExpenseIndex_17Q3_bucket,buckets =='less than $ 1M')\n",
    "ExpenseIndex_bucket2_YoY_2<- subset(ExpenseIndex_17Q3_bucket,buckets=='Between 1M to 10M')\n",
    "ExpenseIndex_bucket3_YoY_2<- subset(ExpenseIndex_17Q3_bucket,buckets =='Between 10M to 100M')\n",
    "ExpenseIndex_bucket4_YoY_2<- subset(ExpenseIndex_17Q3_bucket,buckets=='Between 100M to 500M')\n",
    "ExpenseIndex_bucket5_YoY_2<- subset(ExpenseIndex_17Q3_bucket,buckets =='Greater than 500M')\n",
    "QtR<- c(\"2016Q1\",\"2016Q2\",\"2016Q3\",\"2016Q4\",\"2017Q1\",\"2017Q2\",\"2017Q3\",\n",
    "        \"2016Q1\",\"2016Q2\",\"2016Q3\",\"2016Q4\",\"2017Q1\",\"2017Q2\",\"2017Q3\",\n",
    "        \"2016Q1\",\"2016Q2\",\"2016Q3\",\"2016Q4\",\"2017Q1\",\"2017Q2\",\"2017Q3\",\n",
    "       \"2016Q1\",\"2016Q2\",\"2016Q3\",\"2016Q4\",\"2017Q1\",\"2017Q2\",\"2017Q3\",\n",
    "       \"2016Q1\",\"2016Q2\",\"2016Q3\",\"2016Q4\",\"2017Q1\",\"2017Q2\",\"2017Q3\")\n",
    "buckets<-c(\"AA1\",\"AA1\",\"AA1\",\"AA1\",\"AA1\",\"AA1\",\"AA1\",\n",
    "       \"BB2\",\"BB2\",\"BB2\",\"BB2\",\"BB2\",\"BB2\",\"BB2\",\n",
    "       \"CC3\",\"CC3\",\"CC3\",\"CC3\",\"CC3\",\"CC3\",\"CC3\",\n",
    "    \"DD4\",\"DD4\",\"DD4\",\"DD4\",\"DD4\",\"DD4\",\"DD4\",\n",
    "       \"EE5\",\"EE5\",\"EE5\",\"EE5\",\"EE5\",\"EE5\",\"EE5\")\n",
    "Buckets_YoY<-c(\n",
    "round(sum(ExpenseIndex_bucket1_YoY_2$YOY_1615Q1)*100,2),\n",
    "round(sum(ExpenseIndex_bucket1_YoY_2$YOY_1615Q2)*100,2),\n",
    "round(sum(ExpenseIndex_bucket1_YoY_2$YOY_1615Q3)*100,2),\n",
    "round(sum(ExpenseIndex_bucket1_YoY_2$YOY_1615Q4)*100,2),\n",
    "round(sum(ExpenseIndex_bucket1_YoY_2$YOY_1716Q1)*100,2),\n",
    "round(sum(ExpenseIndex_bucket1_YoY_2$YOY_1716Q2)*100,2),\n",
    "round(sum(ExpenseIndex_bucket1_YoY_2$YOY_1716Q3)*100,2),\n",
    "round(sum(ExpenseIndex_bucket2_YoY_2$YOY_1615Q1)*100,2),\n",
    "round(sum(ExpenseIndex_bucket2_YoY_2$YOY_1615Q2)*100,2),\n",
    "round(sum(ExpenseIndex_bucket2_YoY_2$YOY_1615Q3)*100,2),\n",
    "round(sum(ExpenseIndex_bucket2_YoY_2$YOY_1615Q4)*100,2),\n",
    "round(sum(ExpenseIndex_bucket2_YoY_2$YOY_1716Q1)*100,2),\n",
    "round(sum(ExpenseIndex_bucket2_YoY_2$YOY_1716Q2)*100,2),\n",
    "round(sum(ExpenseIndex_bucket2_YoY_2$YOY_1716Q3)*100,2),    \n",
    "round(sum(ExpenseIndex_bucket3_YoY_2$YOY_1615Q1)*100,2),\n",
    "round(sum(ExpenseIndex_bucket3_YoY_2$YOY_1615Q2)*100,2),\n",
    "round(sum(ExpenseIndex_bucket3_YoY_2$YOY_1615Q3)*100,2),\n",
    "round(sum(ExpenseIndex_bucket3_YoY_2$YOY_1615Q4)*100,2),\n",
    "round(sum(ExpenseIndex_bucket3_YoY_2$YOY_1716Q1)*100,2),\n",
    "round(sum(ExpenseIndex_bucket3_YoY_2$YOY_1716Q2)*100,2),\n",
    "round(sum(ExpenseIndex_bucket3_YoY_2$YOY_1716Q3)*100,2), \n",
    "round(sum(ExpenseIndex_bucket4_YoY_2$YOY_1615Q1)*100,2),\n",
    "round(sum(ExpenseIndex_bucket4_YoY_2$YOY_1615Q2)*100,2),\n",
    "round(sum(ExpenseIndex_bucket4_YoY_2$YOY_1615Q3)*100,2),\n",
    "round(sum(ExpenseIndex_bucket4_YoY_2$YOY_1615Q4)*100,2),\n",
    "round(sum(ExpenseIndex_bucket4_YoY_2$YOY_1716Q1)*100,2),\n",
    "round(sum(ExpenseIndex_bucket4_YoY_2$YOY_1716Q2)*100,2),\n",
    "round(sum(ExpenseIndex_bucket4_YoY_2$YOY_1716Q3)*100,2),\n",
    "round(sum(ExpenseIndex_bucket5_YoY_2$YOY_1615Q1)*100,2),\n",
    "round(sum(ExpenseIndex_bucket5_YoY_2$YOY_1615Q2)*100,2),\n",
    "round(sum(ExpenseIndex_bucket5_YoY_2$YOY_1615Q3)*100,2),\n",
    "round(sum(ExpenseIndex_bucket5_YoY_2$YOY_1615Q4)*100,2),\n",
    "round(sum(ExpenseIndex_bucket5_YoY_2$YOY_1716Q1)*100,2),\n",
    "round(sum(ExpenseIndex_bucket5_YoY_2$YOY_1716Q2)*100,2),\n",
    "round(sum(ExpenseIndex_bucket5_YoY_2$YOY_1716Q3)*100,2)\n",
    ")\n",
    "Bucket_YoY<-data.frame(QtR,buckets,Buckets_YoY)"
   ]
  },
  {
   "cell_type": "code",
   "execution_count": 17,
   "metadata": {},
   "outputs": [
    {
     "data": {},
     "metadata": {},
     "output_type": "display_data"
    },
    {
     "data": {
      "image/png": "[encoded data removed]",
      "text/plain": [
       "plot without title"
      ]
     },
     "metadata": {},
     "output_type": "display_data"
    }
   ],
   "source": [
    "options(repr.plot.width=7, repr.plot.height=3)\n",
    "ggplot(Bucket_YoY,aes(x =QtR,y=Buckets_YoY,group=buckets,color=buckets))+\n",
    "geom_line(size =0.7)+\n",
    "geom_point(size =0.7)+\n",
    "theme_minimal()+ theme(legend.title=element_blank()) + \n",
    "theme(legend.text = element_text(size=8))+\n",
    "theme(title =element_text(size=7))+ theme(legend.position=\"bottom\")+\n",
    "scale_colour_manual(\"\", values = c(\"AA1\"=\"#2E8B57\", \"BB2\"=\"#808000\", \"CC3\"=\"#00BFFF\", \"DD4\"=\"#ff817b\", \"EE5\"=\"#0072B2\"),labels =c('less than $ 1M','Between 1M to 10M','Between 10M to 100M','Between 100M to 500M','Greater than 500M'))+\n",
    "theme(axis.text.x = element_text(colour=\"grey20\",size=7),axis.text.y = element_text(colour=\"grey20\",size=7))+\n",
    "labs(title = \" YoY Growth by Actual Spend Region (Transaction Country) \",x=\"Quarters\",y=\"YoY growth in spent\")"
   ]
  },
  {
   "cell_type": "markdown",
   "metadata": {},
   "source": [
    "### Region Summary"
   ]
  },
  {
   "cell_type": "code",
   "execution_count": 18,
   "metadata": {
    "collapsed": true
   },
   "outputs": [],
   "source": [
    "ExpenseIndex_Geo_YoY <-ExpenseIndex_Geo%>%group_by(GEO)%>%\n",
    "mutate(YOY_1615Q1= ((X2016Q1-X2015Q1)/X2015Q1)*((X2015Q1+X2016Q1)/sum(X2015Q1+X2016Q1)),\n",
    "       YOY_1615Q2= ((X2016Q2-X2015Q2)/X2015Q2)*((X2015Q2+X2016Q2)/sum(X2015Q2+X2016Q2)),\n",
    "       YOY_1615Q3= ((X2016Q3-X2015Q3)/X2015Q3)*((X2015Q3+X2016Q3)/sum(X2015Q3+X2016Q3)),\n",
    "       YOY_1615Q4= ((X2016Q4-X2015Q4)/X2015Q4)*((X2015Q4+X2016Q4)/sum(X2015Q4+X2016Q4)),\n",
    "       YOY_1716Q1= ((X2017Q1-X2016Q1)/X2016Q1)*((X2016Q1+X2017Q1)/sum(X2016Q1+X2017Q1)),\n",
    "       YOY_1716Q2= ((X2017Q2-X2016Q2)/X2016Q2)*((X2016Q2+X2017Q2)/sum(X2016Q2+X2017Q2)),\n",
    "       YOY_1716Q3= ((X2017Q3-X2016Q3)/X2016Q3)*((X2016Q3+X2017Q3)/sum(X2016Q3+X2017Q3))\n",
    "      )\n",
    "ExpenseIndex_Americas_YoY<- subset(ExpenseIndex_Geo_YoY,GEO =='AMERICAS')\n",
    "ExpenseIndex_APAC_YoY<- subset(ExpenseIndex_Geo_YoY,GEO =='APAC')\n",
    "ExpenseIndex_EMEA_YoY<- subset(ExpenseIndex_Geo_YoY,GEO =='EMEA')\n",
    "QtR<- c(\"2016Q1\",\"2016Q2\",\"2016Q3\",\"2016Q4\",\"2017Q1\",\"2017Q2\",\"2017Q3\",\n",
    "        \"2016Q1\",\"2016Q2\",\"2016Q3\",\"2016Q4\",\"2017Q1\",\"2017Q2\",\"2017Q3\",\n",
    "        \"2016Q1\",\"2016Q2\",\"2016Q3\",\"2016Q4\",\"2017Q1\",\"2017Q2\",\"2017Q3\")\n",
    "geo<-c(\"Americas\",\"Americas\",\"Americas\",\"Americas\",\"Americas\",\"Americas\",\"Americas\",\n",
    "       \"APAC\",\"APAC\",\"APAC\",\"APAC\",\"APAC\",\"APAC\",\"APAC\",\n",
    "        \"EMEA\",\"EMEA\",\"EMEA\",\"EMEA\",\"EMEA\",\"EMEA\",\"EMEA\")\n",
    "geo_YoY<-c(\n",
    "round(sum(ExpenseIndex_Americas_YoY$YOY_1615Q1)*100,2),\n",
    "round(sum(ExpenseIndex_Americas_YoY$YOY_1615Q2)*100,2),\n",
    "round(sum(ExpenseIndex_Americas_YoY$YOY_1615Q3)*100,2),\n",
    "round(sum(ExpenseIndex_Americas_YoY$YOY_1615Q4)*100,2),\n",
    "round(sum(ExpenseIndex_Americas_YoY$YOY_1716Q1)*100,2),\n",
    "round(sum(ExpenseIndex_Americas_YoY$YOY_1716Q2)*100,2),\n",
    "round(sum(ExpenseIndex_Americas_YoY$YOY_1716Q3)*100,2),\n",
    "round(sum(ExpenseIndex_APAC_YoY$YOY_1615Q1)*100,2),\n",
    "round(sum(ExpenseIndex_APAC_YoY$YOY_1615Q2)*100,2),\n",
    "round(sum(ExpenseIndex_APAC_YoY$YOY_1615Q3)*100,2),\n",
    "round(sum(ExpenseIndex_APAC_YoY$YOY_1615Q4)*100,2),\n",
    "round(sum(ExpenseIndex_APAC_YoY$YOY_1716Q1)*100,2),\n",
    "round(sum(ExpenseIndex_APAC_YoY$YOY_1716Q2)*100,2),\n",
    "round(sum(ExpenseIndex_APAC_YoY$YOY_1716Q3)*100,2),\n",
    "round(sum(ExpenseIndex_EMEA_YoY$YOY_1615Q1)*100,2),\n",
    "round(sum(ExpenseIndex_EMEA_YoY$YOY_1615Q2)*100,2),\n",
    "round(sum(ExpenseIndex_EMEA_YoY$YOY_1615Q3)*100,2),\n",
    "round(sum(ExpenseIndex_EMEA_YoY$YOY_1615Q4)*100,2),\n",
    "round(sum(ExpenseIndex_EMEA_YoY$YOY_1716Q1)*100,2),\n",
    "round(sum(ExpenseIndex_EMEA_YoY$YOY_1716Q2)*100,2),\n",
    "round(sum(ExpenseIndex_EMEA_YoY$YOY_1716Q3)*100,2)     \n",
    ")\n",
    "Weighted_Geo_YoY <-data.frame(QtR,geo,geo_YoY)"
   ]
  },
  {
   "cell_type": "code",
   "execution_count": 19,
   "metadata": {},
   "outputs": [
    {
     "data": {
      "text/html": [
       "<table>\n",
       "<thead><tr><th scope=col>QtR</th><th scope=col>geo</th><th scope=col>geo_YoY</th></tr></thead>\n",
       "<tbody>\n",
       "\t<tr><td>2016Q1  </td><td>Americas</td><td> 6.51   </td></tr>\n",
       "\t<tr><td>2016Q2  </td><td>Americas</td><td> 2.60   </td></tr>\n",
       "\t<tr><td>2016Q3  </td><td>Americas</td><td> 1.81   </td></tr>\n",
       "\t<tr><td>2016Q4  </td><td>Americas</td><td> 2.02   </td></tr>\n",
       "\t<tr><td>2017Q1  </td><td>Americas</td><td> 6.12   </td></tr>\n",
       "\t<tr><td>2017Q2  </td><td>Americas</td><td> 7.77   </td></tr>\n",
       "\t<tr><td>2017Q3  </td><td>Americas</td><td> 7.40   </td></tr>\n",
       "\t<tr><td>2016Q1  </td><td>APAC    </td><td> 4.10   </td></tr>\n",
       "\t<tr><td>2016Q2  </td><td>APAC    </td><td> 3.01   </td></tr>\n",
       "\t<tr><td>2016Q3  </td><td>APAC    </td><td> 1.98   </td></tr>\n",
       "\t<tr><td>2016Q4  </td><td>APAC    </td><td> 3.67   </td></tr>\n",
       "\t<tr><td>2017Q1  </td><td>APAC    </td><td> 6.83   </td></tr>\n",
       "\t<tr><td>2017Q2  </td><td>APAC    </td><td> 5.62   </td></tr>\n",
       "\t<tr><td>2017Q3  </td><td>APAC    </td><td> 7.55   </td></tr>\n",
       "\t<tr><td>2016Q1  </td><td>EMEA    </td><td>11.92   </td></tr>\n",
       "\t<tr><td>2016Q2  </td><td>EMEA    </td><td> 7.12   </td></tr>\n",
       "\t<tr><td>2016Q3  </td><td>EMEA    </td><td> 3.46   </td></tr>\n",
       "\t<tr><td>2016Q4  </td><td>EMEA    </td><td> 3.81   </td></tr>\n",
       "\t<tr><td>2017Q1  </td><td>EMEA    </td><td> 5.25   </td></tr>\n",
       "\t<tr><td>2017Q2  </td><td>EMEA    </td><td> 5.34   </td></tr>\n",
       "\t<tr><td>2017Q3  </td><td>EMEA    </td><td> 8.62   </td></tr>\n",
       "</tbody>\n",
       "</table>\n"
      ],
      "text/latex": [
       "\\begin{tabular}{r|lll}\n",
       " QtR & geo & geo\\_YoY\\\\\n",
       "\\hline\n",
       "\t 2016Q1   & Americas &  6.51   \\\\\n",
       "\t 2016Q2   & Americas &  2.60   \\\\\n",
       "\t 2016Q3   & Americas &  1.81   \\\\\n",
       "\t 2016Q4   & Americas &  2.02   \\\\\n",
       "\t 2017Q1   & Americas &  6.12   \\\\\n",
       "\t 2017Q2   & Americas &  7.77   \\\\\n",
       "\t 2017Q3   & Americas &  7.40   \\\\\n",
       "\t 2016Q1   & APAC     &  4.10   \\\\\n",
       "\t 2016Q2   & APAC     &  3.01   \\\\\n",
       "\t 2016Q3   & APAC     &  1.98   \\\\\n",
       "\t 2016Q4   & APAC     &  3.67   \\\\\n",
       "\t 2017Q1   & APAC     &  6.83   \\\\\n",
       "\t 2017Q2   & APAC     &  5.62   \\\\\n",
       "\t 2017Q3   & APAC     &  7.55   \\\\\n",
       "\t 2016Q1   & EMEA     & 11.92   \\\\\n",
       "\t 2016Q2   & EMEA     &  7.12   \\\\\n",
       "\t 2016Q3   & EMEA     &  3.46   \\\\\n",
       "\t 2016Q4   & EMEA     &  3.81   \\\\\n",
       "\t 2017Q1   & EMEA     &  5.25   \\\\\n",
       "\t 2017Q2   & EMEA     &  5.34   \\\\\n",
       "\t 2017Q3   & EMEA     &  8.62   \\\\\n",
       "\\end{tabular}\n"
      ],
      "text/markdown": [
       "\n",
       "QtR | geo | geo_YoY | \n",
       "|---|---|---|---|---|---|---|---|---|---|---|---|---|---|---|---|---|---|---|---|---|\n",
       "| 2016Q1   | Americas |  6.51    | \n",
       "| 2016Q2   | Americas |  2.60    | \n",
       "| 2016Q3   | Americas |  1.81    | \n",
       "| 2016Q4   | Americas |  2.02    | \n",
       "| 2017Q1   | Americas |  6.12    | \n",
       "| 2017Q2   | Americas |  7.77    | \n",
       "| 2017Q3   | Americas |  7.40    | \n",
       "| 2016Q1   | APAC     |  4.10    | \n",
       "| 2016Q2   | APAC     |  3.01    | \n",
       "| 2016Q3   | APAC     |  1.98    | \n",
       "| 2016Q4   | APAC     |  3.67    | \n",
       "| 2017Q1   | APAC     |  6.83    | \n",
       "| 2017Q2   | APAC     |  5.62    | \n",
       "| 2017Q3   | APAC     |  7.55    | \n",
       "| 2016Q1   | EMEA     | 11.92    | \n",
       "| 2016Q2   | EMEA     |  7.12    | \n",
       "| 2016Q3   | EMEA     |  3.46    | \n",
       "| 2016Q4   | EMEA     |  3.81    | \n",
       "| 2017Q1   | EMEA     |  5.25    | \n",
       "| 2017Q2   | EMEA     |  5.34    | \n",
       "| 2017Q3   | EMEA     |  8.62    | \n",
       "\n",
       "\n"
      ],
      "text/plain": [
       "   QtR    geo      geo_YoY\n",
       "1  2016Q1 Americas  6.51  \n",
       "2  2016Q2 Americas  2.60  \n",
       "3  2016Q3 Americas  1.81  \n",
       "4  2016Q4 Americas  2.02  \n",
       "5  2017Q1 Americas  6.12  \n",
       "6  2017Q2 Americas  7.77  \n",
       "7  2017Q3 Americas  7.40  \n",
       "8  2016Q1 APAC      4.10  \n",
       "9  2016Q2 APAC      3.01  \n",
       "10 2016Q3 APAC      1.98  \n",
       "11 2016Q4 APAC      3.67  \n",
       "12 2017Q1 APAC      6.83  \n",
       "13 2017Q2 APAC      5.62  \n",
       "14 2017Q3 APAC      7.55  \n",
       "15 2016Q1 EMEA     11.92  \n",
       "16 2016Q2 EMEA      7.12  \n",
       "17 2016Q3 EMEA      3.46  \n",
       "18 2016Q4 EMEA      3.81  \n",
       "19 2017Q1 EMEA      5.25  \n",
       "20 2017Q2 EMEA      5.34  \n",
       "21 2017Q3 EMEA      8.62  "
      ]
     },
     "metadata": {},
     "output_type": "display_data"
    }
   ],
   "source": [
    "Weighted_Geo_YoY"
   ]
  },
  {
   "cell_type": "code",
   "execution_count": 20,
   "metadata": {},
   "outputs": [
    {
     "data": {},
     "metadata": {},
     "output_type": "display_data"
    },
    {
     "data": {
      "image/png": "[encoded data removed]",
      "text/plain": [
       "plot without title"
      ]
     },
     "metadata": {},
     "output_type": "display_data"
    }
   ],
   "source": [
    "ggplot(Weighted_Geo_YoY,aes(x =QtR,y=geo_YoY,group=geo,color=geo))+\n",
    "geom_line(size =0.7)+\n",
    "geom_point(size =0.8)+\n",
    "theme_minimal()+ theme(legend.title=element_blank()) + \n",
    "theme(legend.text = element_text(size=8))+\n",
    "theme(title =element_text(size=8))+ theme(legend.position=\"bottom\")+\n",
    "theme(axis.text.x = element_text(colour=\"grey20\",size=7),axis.text.y = element_text(colour=\"grey20\",size=7))+\n",
    "labs(title = \" YoY growth in spend by Geo \",x=\"Quarters\",y=\"YoY growth in spend\")"
   ]
  },
  {
   "cell_type": "markdown",
   "metadata": {},
   "source": [
    "### Sector Summary :"
   ]
  },
  {
   "cell_type": "code",
   "execution_count": 21,
   "metadata": {
    "collapsed": true
   },
   "outputs": [],
   "source": [
    "ExpenseIndex_Ind_YoY_2<-ExpenseIndex_Industry%>%group_by(Cleaned_Industry)%>%\n",
    "mutate(YOY_1615Q1= ((X2016Q1-X2015Q1)/X2015Q1)*((X2015Q1+X2016Q1)/sum(X2015Q1+X2016Q1)),\n",
    "       YOY_1615Q2= ((X2016Q2-X2015Q2)/X2015Q2)*((X2015Q2+X2016Q2)/sum(X2015Q2+X2016Q2)),\n",
    "       YOY_1615Q3= ((X2016Q3-X2015Q3)/X2015Q3)*((X2015Q3+X2016Q3)/sum(X2015Q3+X2016Q3)),\n",
    "       YOY_1615Q4= ((X2016Q4-X2015Q4)/X2015Q4)*((X2015Q4+X2016Q4)/sum(X2015Q4+X2016Q4)),\n",
    "       YOY_1716Q1= ((X2017Q1-X2016Q1)/X2016Q1)*((X2016Q1+X2017Q1)/sum(X2016Q1+X2017Q1)),\n",
    "      YOY_1716Q2= ((X2017Q2-X2016Q2)/X2016Q2)*((X2016Q2+X2017Q2)/sum(X2016Q2+X2017Q2)),\n",
    "      YOY_1716Q3= ((X2017Q3-X2016Q3)/X2016Q3)*((X2016Q3+X2017Q3)/sum(X2016Q3+X2017Q3))\n",
    "       )\n",
    "       \n",
    "ExpenseIndex_Financial_Services_YoY_2<- subset(ExpenseIndex_Ind_YoY_2,Cleaned_Industry =='Financial Services')\n",
    "ExpenseIndex_Consumer_YoY_2<- subset(ExpenseIndex_Ind_YoY_2,Cleaned_Industry=='Consumer')\n",
    "ExpenseIndex_Services_YoY_2<- subset(ExpenseIndex_Ind_YoY_2,Cleaned_Industry =='Services')\n",
    "ExpenseIndex_Energy_Natural_Resources_YoY_2<- subset(ExpenseIndex_Ind_YoY_2,Cleaned_Industry=='Energy & Natural Resources')\n",
    "ExpenseIndex_Discrete_Manufacturing_YoY_2<- subset(ExpenseIndex_Ind_YoY_2,Cleaned_Industry =='Discrete Manufacturing')\n",
    "ExpenseIndex_Public_Services_YoY_2<- subset(ExpenseIndex_Ind_YoY_2,Cleaned_Industry=='Public Services')\n",
    "ExpenseIndex_Healthcare_YoY_2<- subset(ExpenseIndex_Ind_YoY_2,Cleaned_Industry =='Healthcare')\n",
    "ExpenseIndex_Telecom_YoY_2<- subset(ExpenseIndex_Ind_YoY_2,Cleaned_Industry =='Telecom')\n",
    "Ind_QtR<-c(\"2016Q1\",\"2016Q2\",\"2016Q3\",\"2016Q4\",\"2017Q1\",\"2017Q2\",\"2017Q3\",\n",
    "        \"2016Q1\",\"2016Q2\",\"2016Q3\",\"2016Q4\",\"2017Q1\",\"2017Q2\",\"2017Q3\",\n",
    "        \"2016Q1\",\"2016Q2\",\"2016Q3\",\"2016Q4\",\"2017Q1\",\"2017Q2\",\"2017Q3\",\n",
    "       \"2016Q1\",\"2016Q2\",\"2016Q3\",\"2016Q4\",\"2017Q1\",\"2017Q2\",\"2017Q3\",\n",
    "       \"2016Q1\",\"2016Q2\",\"2016Q3\",\"2016Q4\",\"2017Q1\",\"2017Q2\",\"2017Q3\",\n",
    "       \"2016Q1\",\"2016Q2\",\"2016Q3\",\"2016Q4\",\"2017Q1\",\"2017Q2\",\"2017Q3\",\n",
    "       \"2016Q1\",\"2016Q2\",\"2016Q3\",\"2016Q4\",\"2017Q1\",\"2017Q2\",\"2017Q3\",\n",
    "       \"2016Q1\",\"2016Q2\",\"2016Q3\",\"2016Q4\",\"2017Q1\",\"2017Q2\",\"2017Q3\")\n",
    "Industry<-c(\"Financial Services\",\"Financial Services\",\"Financial Services\",\"Financial Services\",\"Financial Services\",\"Financial Services\",\"Financial Services\",\n",
    "       \"Consumer\",\"Consumer\",\"Consumer\",\"Consumer\",\"Consumer\",\"Consumer\",\"Consumer\",\n",
    "       \"Services\",\"Services\",\"Services\",\"Services\",\"Services\",\"Services\",\"Services\",\n",
    "       \"Energy & Natural Resources\",\"Energy & Natural Resources\",\"Energy & Natural Resources\",\"Energy & Natural Resources\",\"Energy & Natural Resources\",\"Energy & Natural Resources\",\"Energy & Natural Resources\",\n",
    "       \"Discrete Manufacturing\",\"Discrete Manufacturing\",\"Discrete Manufacturing\",\"Discrete Manufacturing\",\"Discrete Manufacturing\",\"Discrete Manufacturing\",\"Discrete Manufacturing\",\n",
    "       \"Public Services\",\"Public Services\",\"Public Services\",\"Public Services\",\"Public Services\",\"Public Services\",\"Public Services\",\n",
    "       \"Healthcare\",\"Healthcare\",\"Healthcare\",\"Healthcare\",\"Healthcare\",\"Healthcare\",\"Healthcare\",\n",
    "        \"Telecom\",\"Telecom\",\"Telecom\",\"Telecom\",\"Telecom\",\"Telecom\",\"Telecom\")\n",
    "Ind_YoY<-c(\n",
    "round(sum(ExpenseIndex_Financial_Services_YoY_2$YOY_1615Q1)*100,2),\n",
    "round(sum(ExpenseIndex_Financial_Services_YoY_2$YOY_1615Q2)*100,2),\n",
    "round(sum(ExpenseIndex_Financial_Services_YoY_2$YOY_1615Q3)*100,2),\n",
    "round(sum(ExpenseIndex_Financial_Services_YoY_2$YOY_1615Q4)*100,2),\n",
    "round(sum(ExpenseIndex_Financial_Services_YoY_2$YOY_1716Q1)*100,2),\n",
    "round(sum(ExpenseIndex_Financial_Services_YoY_2$YOY_1716Q2)*100,2),\n",
    "round(sum(ExpenseIndex_Financial_Services_YoY_2$YOY_1716Q3)*100,2),\n",
    "round(sum(ExpenseIndex_Consumer_YoY_2$YOY_1615Q1)*100,2),\n",
    "round(sum(ExpenseIndex_Consumer_YoY_2$YOY_1615Q2)*100,2),\n",
    "round(sum(ExpenseIndex_Consumer_YoY_2$YOY_1615Q3)*100,2),\n",
    "round(sum(ExpenseIndex_Consumer_YoY_2$YOY_1615Q4)*100,2),\n",
    "round(sum(ExpenseIndex_Consumer_YoY_2$YOY_1716Q1)*100,2),\n",
    "round(sum(ExpenseIndex_Consumer_YoY_2$YOY_1716Q2)*100,2),\n",
    "round(sum(ExpenseIndex_Consumer_YoY_2$YOY_1716Q3)*100,2),\n",
    "round(sum(ExpenseIndex_Services_YoY_2$YOY_1615Q1)*100,2),\n",
    "round(sum(ExpenseIndex_Services_YoY_2$YOY_1615Q2)*100,2),\n",
    "round(sum(ExpenseIndex_Services_YoY_2$YOY_1615Q3)*100,2),\n",
    "round(sum(ExpenseIndex_Services_YoY_2$YOY_1615Q4)*100,2),\n",
    "round(sum(ExpenseIndex_Services_YoY_2$YOY_1716Q1)*100,2),\n",
    "round(sum(ExpenseIndex_Services_YoY_2$YOY_1716Q2)*100,2),\n",
    "round(sum(ExpenseIndex_Services_YoY_2$YOY_1716Q3)*100,2),\n",
    "round(sum(ExpenseIndex_Energy_Natural_Resources_YoY_2$YOY_1615Q1)*100,2),\n",
    "round(sum(ExpenseIndex_Energy_Natural_Resources_YoY_2$YOY_1615Q2)*100,2),\n",
    "round(sum(ExpenseIndex_Energy_Natural_Resources_YoY_2$YOY_1615Q3)*100,2),\n",
    "round(sum(ExpenseIndex_Energy_Natural_Resources_YoY_2$YOY_1615Q4)*100,2),\n",
    "round(sum(ExpenseIndex_Energy_Natural_Resources_YoY_2$YOY_1716Q1)*100,2),\n",
    "round(sum(ExpenseIndex_Energy_Natural_Resources_YoY_2$YOY_1716Q2)*100,2),\n",
    "round(sum(ExpenseIndex_Energy_Natural_Resources_YoY_2$YOY_1716Q3)*100,2),\n",
    "round(sum(ExpenseIndex_Discrete_Manufacturing_YoY_2$YOY_1615Q1)*100,2),\n",
    "round(sum(ExpenseIndex_Discrete_Manufacturing_YoY_2$YOY_1615Q2)*100,2),\n",
    "round(sum(ExpenseIndex_Discrete_Manufacturing_YoY_2$YOY_1615Q3)*100,2),\n",
    "round(sum(ExpenseIndex_Discrete_Manufacturing_YoY_2$YOY_1615Q4)*100,2),\n",
    "round(sum(ExpenseIndex_Discrete_Manufacturing_YoY_2$YOY_1716Q1)*100,2),\n",
    "round(sum(ExpenseIndex_Discrete_Manufacturing_YoY_2$YOY_1716Q2)*100,2),\n",
    "round(sum(ExpenseIndex_Discrete_Manufacturing_YoY_2$YOY_1716Q3)*100,2),\n",
    "round(sum(ExpenseIndex_Public_Services_YoY_2$YOY_1615Q1)*100,2),\n",
    "round(sum(ExpenseIndex_Public_Services_YoY_2$YOY_1615Q2)*100,2),\n",
    "round(sum(ExpenseIndex_Public_Services_YoY_2$YOY_1615Q3)*100,2),\n",
    "round(sum(ExpenseIndex_Public_Services_YoY_2$YOY_1615Q4)*100,2),\n",
    "round(sum(ExpenseIndex_Public_Services_YoY_2$YOY_1716Q1)*100,2),\n",
    "round(sum(ExpenseIndex_Public_Services_YoY_2$YOY_1716Q2)*100,2),\n",
    "round(sum(ExpenseIndex_Public_Services_YoY_2$YOY_1716Q3)*100,2),\n",
    "round(sum(ExpenseIndex_Healthcare_YoY_2$YOY_1615Q1)*100,2),\n",
    "round(sum(ExpenseIndex_Healthcare_YoY_2$YOY_1615Q2)*100,2),\n",
    "round(sum(ExpenseIndex_Healthcare_YoY_2$YOY_1615Q3)*100,2),\n",
    "round(sum(ExpenseIndex_Healthcare_YoY_2$YOY_1615Q4)*100,2),\n",
    "round(sum(ExpenseIndex_Healthcare_YoY_2$YOY_1716Q1)*100,2),\n",
    "round(sum(ExpenseIndex_Healthcare_YoY_2$YOY_1716Q2)*100,2),\n",
    "round(sum(ExpenseIndex_Healthcare_YoY_2$YOY_1716Q3)*100,2), \n",
    "round(sum(ExpenseIndex_Telecom_YoY_2$YOY_1615Q1)*100,2),\n",
    "round(sum(ExpenseIndex_Telecom_YoY_2$YOY_1615Q2)*100,2),\n",
    "round(sum(ExpenseIndex_Telecom_YoY_2$YOY_1615Q3)*100,2),\n",
    "round(sum(ExpenseIndex_Telecom_YoY_2$YOY_1615Q4)*100,2),\n",
    "round(sum(ExpenseIndex_Telecom_YoY_2$YOY_1716Q1)*100,2),\n",
    "round(sum(ExpenseIndex_Telecom_YoY_2$YOY_1716Q2)*100,2),\n",
    "round(sum(ExpenseIndex_Telecom_YoY_2$YOY_1716Q3)*100,2)\n",
    ")    \n",
    "\n",
    "Weighted_Ind_YoY_2<-data.frame(Ind_QtR,Industry,Ind_YoY)"
   ]
  },
  {
   "cell_type": "code",
   "execution_count": 22,
   "metadata": {},
   "outputs": [
    {
     "data": {},
     "metadata": {},
     "output_type": "display_data"
    },
    {
     "data": {
      "image/png": "[encoded data removed]",
      "text/plain": [
       "plot without title"
      ]
     },
     "metadata": {},
     "output_type": "display_data"
    }
   ],
   "source": [
    "ggplot(Weighted_Ind_YoY_2,aes(x =Ind_QtR,y=Ind_YoY,group=Industry,color=Industry))+\n",
    "geom_line(size =0.6)+\n",
    "geom_point(size =0.7)+\n",
    "theme_minimal()+ theme(legend.title=element_blank()) + \n",
    "theme(legend.text = element_text(size=9))+\n",
    "theme(title =element_text(size=8))+ theme(legend.position=\"bottom\")+\n",
    "theme(axis.text.x = element_text(colour=\"grey20\",size=7),axis.text.y = element_text(colour=\"grey20\",size=7))+\n",
    "labs(title = \" YoY growth in Industries \",x=\"Quarters\",y=\"YoY growth in Industries\")"
   ]
  },
  {
   "cell_type": "code",
   "execution_count": 23,
   "metadata": {
    "collapsed": true
   },
   "outputs": [],
   "source": [
    "ExpenseIndex_Geo_spend_sum<-ExpenseIndex_Transaction_Country%>%group_by(entry_region)%>%summarise(\n",
    "total_2015Q1 =sum(X2015Q1,na.rm=TRUE), \n",
    "total_2015Q2 =sum(X2015Q2,na.rm=TRUE), \n",
    "total_2015Q3 =sum(X2015Q3,na.rm=TRUE),\n",
    "total_2015Q4 =sum(X2015Q4,na.rm=TRUE), \n",
    "total_2016Q1 =sum(X2016Q1,na.rm=TRUE), \n",
    "total_2016Q2 =sum(X2016Q2,na.rm=TRUE), \n",
    "total_2016Q3 =sum(X2016Q3,na.rm=TRUE), \n",
    "total_2016Q4 =sum(X2016Q4,na.rm=TRUE), \n",
    "total_2017Q1 =sum(X2017Q1,na.rm=TRUE), \n",
    "total_2017Q2 =sum(X2017Q2,na.rm=TRUE), \n",
    "total_2017Q3 =sum(X2017Q3,na.rm=TRUE))\n",
    "\n",
    "ExpenseIndex_GeoSpend_YoY_2<-ExpenseIndex_Geo_spend_sum%>%\n",
    "mutate(\n",
    "       YOY_1615Q1= ((total_2016Q1-total_2015Q1)/total_2015Q1)*100,\n",
    "       YOY_1615Q2= ((total_2016Q2-total_2015Q2)/total_2015Q2)*100,\n",
    "       YOY_1615Q3= ((total_2016Q3-total_2015Q3)/total_2015Q3)*100,\n",
    "       YOY_1615Q4= ((total_2016Q4-total_2015Q4)/total_2015Q4)*100,\n",
    "       YOY_1716Q1= ((total_2017Q1-total_2016Q1)/total_2016Q1)*100,\n",
    "       YOY_1716Q2= ((total_2017Q2-total_2016Q2)/total_2016Q2)*100,\n",
    "       YOY_1716Q3= ((total_2017Q3-total_2016Q3)/total_2016Q3)*100\n",
    "      )\n",
    "      \n",
    "ExpenseIndex_Americas_YoY<- subset(ExpenseIndex_GeoSpend_YoY_2,entry_region =='Americas')\n",
    "ExpenseIndex_APAC_YoY<- subset(ExpenseIndex_GeoSpend_YoY_2,entry_region=='APAC')\n",
    "ExpenseIndex_EMEA_YoY<- subset(ExpenseIndex_GeoSpend_YoY_2,entry_region =='EMEA')\n",
    "ExpenseIndex_NULL_YoY<- subset(ExpenseIndex_GeoSpend_YoY_2,entry_region =='NULL')\n",
    "QtR_spend<- c(\"2016Q1\",\"2016Q2\",\"2016Q3\",\"2016Q4\",\"2017Q1\",\"2017Q2\",\"2017Q3\",\n",
    "        \"2016Q1\",\"2016Q2\",\"2016Q3\",\"2016Q4\",\"2017Q1\",\"2017Q2\",\"2017Q3\",\n",
    "        \"2016Q1\",\"2016Q2\",\"2016Q3\",\"2016Q4\",\"2017Q1\",\"2017Q2\",\"2017Q3\",\n",
    "             \"2016Q1\",\"2016Q2\",\"2016Q3\",\"2016Q4\",\"2017Q1\",\"2017Q2\",\"2017Q3\")\n",
    "geo_spend<-c(\"Americas\",\"Americas\",\"Americas\",\"Americas\",\"Americas\",\"Americas\",\"Americas\",\n",
    "       \"APAC\",\"APAC\",\"APAC\",\"APAC\",\"APAC\",\"APAC\",\"APAC\",\n",
    "        \"EMEA\",\"EMEA\",\"EMEA\",\"EMEA\",\"EMEA\",\"EMEA\",\"EMEA\",\n",
    "         \"NULL\",\"NULL\",\"NULL\",\"NULL\",\"NULL\",\"NULL\",\"NULL\")\n",
    "geo_spend_YoY<-c(\n",
    "round(ExpenseIndex_Americas_YoY$YOY_1615Q1,2),\n",
    "round(ExpenseIndex_Americas_YoY$YOY_1615Q2,2),\n",
    "round(ExpenseIndex_Americas_YoY$YOY_1615Q3,2),\n",
    "round(ExpenseIndex_Americas_YoY$YOY_1615Q4,2),\n",
    "round(ExpenseIndex_Americas_YoY$YOY_1716Q1,2),\n",
    "round(ExpenseIndex_Americas_YoY$YOY_1716Q2,2),\n",
    "round(ExpenseIndex_Americas_YoY$YOY_1716Q3,2),\n",
    "round(ExpenseIndex_APAC_YoY$YOY_1615Q1,2),\n",
    "round(ExpenseIndex_APAC_YoY$YOY_1615Q2,2),\n",
    "round(ExpenseIndex_APAC_YoY$YOY_1615Q3,2),\n",
    "round(ExpenseIndex_APAC_YoY$YOY_1615Q4,2),\n",
    "round(ExpenseIndex_APAC_YoY$YOY_1716Q1,2),\n",
    "round(ExpenseIndex_APAC_YoY$YOY_1716Q2,2),\n",
    "round(ExpenseIndex_APAC_YoY$YOY_1716Q3,2),\n",
    "round(ExpenseIndex_EMEA_YoY$YOY_1615Q1,2),\n",
    "round(ExpenseIndex_EMEA_YoY$YOY_1615Q2,2),\n",
    "round(ExpenseIndex_EMEA_YoY$YOY_1615Q3,2),\n",
    "round(ExpenseIndex_EMEA_YoY$YOY_1615Q4,2),\n",
    "round(ExpenseIndex_EMEA_YoY$YOY_1716Q1,2),\n",
    "round(ExpenseIndex_EMEA_YoY$YOY_1716Q2,2),\n",
    "round(ExpenseIndex_EMEA_YoY$YOY_1716Q3,2),  \n",
    "round(ExpenseIndex_NULL_YoY$YOY_1615Q1,2),\n",
    "round(ExpenseIndex_NULL_YoY$YOY_1615Q2,2),\n",
    "round(ExpenseIndex_NULL_YoY$YOY_1615Q3,2),\n",
    "round(ExpenseIndex_NULL_YoY$YOY_1615Q4,2),\n",
    "round(ExpenseIndex_NULL_YoY$YOY_1716Q1,2),\n",
    "round(ExpenseIndex_NULL_YoY$YOY_1716Q2,2),\n",
    "round(ExpenseIndex_NULL_YoY$YOY_1716Q3,2)\n",
    ")\n",
    "Weighted_Geo_spend_YoY_2<-data.frame(QtR_spend,geo_spend,geo_spend_YoY)"
   ]
  },
  {
   "cell_type": "code",
   "execution_count": 24,
   "metadata": {},
   "outputs": [
    {
     "data": {},
     "metadata": {},
     "output_type": "display_data"
    },
    {
     "data": {
      "image/png": "[encoded data removed]",
      "text/plain": [
       "plot without title"
      ]
     },
     "metadata": {},
     "output_type": "display_data"
    }
   ],
   "source": [
    "ggplot(Weighted_Geo_spend_YoY_2,aes(x =QtR_spend,y=geo_spend_YoY,group=geo_spend,color=geo_spend))+\n",
    "geom_line(size =0.7)+\n",
    "geom_point(size =0.7)+\n",
    "theme_minimal()+ theme(legend.title=element_blank()) + \n",
    "theme(legend.text = element_text(size=8))+\n",
    "theme(title =element_text(size=8))+ theme(legend.position=\"bottom\")+\n",
    "theme(axis.text.x = element_text(colour=\"grey20\",size=8),axis.text.y = element_text(colour=\"grey20\",size=8))+\n",
    "labs(title = \" YoY Growth by Actual Spend Region (Transaction Country) \",x=\"Quarters\",y=\"YoY growth in spent\")"
   ]
  },
  {
   "cell_type": "code",
   "execution_count": 33,
   "metadata": {},
   "outputs": [
    {
     "data": {
      "text/html": [
       "<table>\n",
       "<thead><tr><th scope=col>QtR_spend</th><th scope=col>geo_spend</th><th scope=col>geo_spend_YoY</th></tr></thead>\n",
       "<tbody>\n",
       "\t<tr><td>2016Q1  </td><td>Americas</td><td> 3.06   </td></tr>\n",
       "\t<tr><td>2016Q2  </td><td>Americas</td><td>-0.08   </td></tr>\n",
       "\t<tr><td>2016Q3  </td><td>Americas</td><td>-0.35   </td></tr>\n",
       "\t<tr><td>2016Q4  </td><td>Americas</td><td> 0.43   </td></tr>\n",
       "\t<tr><td>2017Q1  </td><td>Americas</td><td> 3.16   </td></tr>\n",
       "\t<tr><td>2017Q2  </td><td>Americas</td><td> 2.88   </td></tr>\n",
       "\t<tr><td>2017Q3  </td><td>Americas</td><td> 1.03   </td></tr>\n",
       "\t<tr><td>2016Q1  </td><td>APAC    </td><td> 1.96   </td></tr>\n",
       "\t<tr><td>2016Q2  </td><td>APAC    </td><td> 3.18   </td></tr>\n",
       "\t<tr><td>2016Q3  </td><td>APAC    </td><td> 4.23   </td></tr>\n",
       "\t<tr><td>2016Q4  </td><td>APAC    </td><td> 7.32   </td></tr>\n",
       "\t<tr><td>2017Q1  </td><td>APAC    </td><td> 8.10   </td></tr>\n",
       "\t<tr><td>2017Q2  </td><td>APAC    </td><td> 7.23   </td></tr>\n",
       "\t<tr><td>2017Q3  </td><td>APAC    </td><td>11.19   </td></tr>\n",
       "\t<tr><td>2016Q1  </td><td>EMEA    </td><td> 6.01   </td></tr>\n",
       "\t<tr><td>2016Q2  </td><td>EMEA    </td><td> 7.26   </td></tr>\n",
       "\t<tr><td>2016Q3  </td><td>EMEA    </td><td>-1.26   </td></tr>\n",
       "\t<tr><td>2016Q4  </td><td>EMEA    </td><td>-1.92   </td></tr>\n",
       "\t<tr><td>2017Q1  </td><td>EMEA    </td><td> 2.06   </td></tr>\n",
       "\t<tr><td>2017Q2  </td><td>EMEA    </td><td> 1.44   </td></tr>\n",
       "\t<tr><td>2017Q3  </td><td>EMEA    </td><td> 8.44   </td></tr>\n",
       "\t<tr><td>2016Q1  </td><td>NULL    </td><td> 2.99   </td></tr>\n",
       "\t<tr><td>2016Q2  </td><td>NULL    </td><td> 0.53   </td></tr>\n",
       "\t<tr><td>2016Q3  </td><td>NULL    </td><td>-0.91   </td></tr>\n",
       "\t<tr><td>2016Q4  </td><td>NULL    </td><td>-0.58   </td></tr>\n",
       "\t<tr><td>2017Q1  </td><td>NULL    </td><td> 3.63   </td></tr>\n",
       "\t<tr><td>2017Q2  </td><td>NULL    </td><td> 6.75   </td></tr>\n",
       "\t<tr><td>2017Q3  </td><td>NULL    </td><td> 6.50   </td></tr>\n",
       "</tbody>\n",
       "</table>\n"
      ],
      "text/latex": [
       "\\begin{tabular}{r|lll}\n",
       " QtR\\_spend & geo\\_spend & geo\\_spend\\_YoY\\\\\n",
       "\\hline\n",
       "\t 2016Q1   & Americas &  3.06   \\\\\n",
       "\t 2016Q2   & Americas & -0.08   \\\\\n",
       "\t 2016Q3   & Americas & -0.35   \\\\\n",
       "\t 2016Q4   & Americas &  0.43   \\\\\n",
       "\t 2017Q1   & Americas &  3.16   \\\\\n",
       "\t 2017Q2   & Americas &  2.88   \\\\\n",
       "\t 2017Q3   & Americas &  1.03   \\\\\n",
       "\t 2016Q1   & APAC     &  1.96   \\\\\n",
       "\t 2016Q2   & APAC     &  3.18   \\\\\n",
       "\t 2016Q3   & APAC     &  4.23   \\\\\n",
       "\t 2016Q4   & APAC     &  7.32   \\\\\n",
       "\t 2017Q1   & APAC     &  8.10   \\\\\n",
       "\t 2017Q2   & APAC     &  7.23   \\\\\n",
       "\t 2017Q3   & APAC     & 11.19   \\\\\n",
       "\t 2016Q1   & EMEA     &  6.01   \\\\\n",
       "\t 2016Q2   & EMEA     &  7.26   \\\\\n",
       "\t 2016Q3   & EMEA     & -1.26   \\\\\n",
       "\t 2016Q4   & EMEA     & -1.92   \\\\\n",
       "\t 2017Q1   & EMEA     &  2.06   \\\\\n",
       "\t 2017Q2   & EMEA     &  1.44   \\\\\n",
       "\t 2017Q3   & EMEA     &  8.44   \\\\\n",
       "\t 2016Q1   & NULL     &  2.99   \\\\\n",
       "\t 2016Q2   & NULL     &  0.53   \\\\\n",
       "\t 2016Q3   & NULL     & -0.91   \\\\\n",
       "\t 2016Q4   & NULL     & -0.58   \\\\\n",
       "\t 2017Q1   & NULL     &  3.63   \\\\\n",
       "\t 2017Q2   & NULL     &  6.75   \\\\\n",
       "\t 2017Q3   & NULL     &  6.50   \\\\\n",
       "\\end{tabular}\n"
      ],
      "text/markdown": [
       "\n",
       "QtR_spend | geo_spend | geo_spend_YoY | \n",
       "|---|---|---|---|---|---|---|---|---|---|---|---|---|---|---|---|---|---|---|---|---|---|---|---|---|---|---|---|\n",
       "| 2016Q1   | Americas |  3.06    | \n",
       "| 2016Q2   | Americas | -0.08    | \n",
       "| 2016Q3   | Americas | -0.35    | \n",
       "| 2016Q4   | Americas |  0.43    | \n",
       "| 2017Q1   | Americas |  3.16    | \n",
       "| 2017Q2   | Americas |  2.88    | \n",
       "| 2017Q3   | Americas |  1.03    | \n",
       "| 2016Q1   | APAC     |  1.96    | \n",
       "| 2016Q2   | APAC     |  3.18    | \n",
       "| 2016Q3   | APAC     |  4.23    | \n",
       "| 2016Q4   | APAC     |  7.32    | \n",
       "| 2017Q1   | APAC     |  8.10    | \n",
       "| 2017Q2   | APAC     |  7.23    | \n",
       "| 2017Q3   | APAC     | 11.19    | \n",
       "| 2016Q1   | EMEA     |  6.01    | \n",
       "| 2016Q2   | EMEA     |  7.26    | \n",
       "| 2016Q3   | EMEA     | -1.26    | \n",
       "| 2016Q4   | EMEA     | -1.92    | \n",
       "| 2017Q1   | EMEA     |  2.06    | \n",
       "| 2017Q2   | EMEA     |  1.44    | \n",
       "| 2017Q3   | EMEA     |  8.44    | \n",
       "| 2016Q1   | NULL     |  2.99    | \n",
       "| 2016Q2   | NULL     |  0.53    | \n",
       "| 2016Q3   | NULL     | -0.91    | \n",
       "| 2016Q4   | NULL     | -0.58    | \n",
       "| 2017Q1   | NULL     |  3.63    | \n",
       "| 2017Q2   | NULL     |  6.75    | \n",
       "| 2017Q3   | NULL     |  6.50    | \n",
       "\n",
       "\n"
      ],
      "text/plain": [
       "   QtR_spend geo_spend geo_spend_YoY\n",
       "1  2016Q1    Americas   3.06        \n",
       "2  2016Q2    Americas  -0.08        \n",
       "3  2016Q3    Americas  -0.35        \n",
       "4  2016Q4    Americas   0.43        \n",
       "5  2017Q1    Americas   3.16        \n",
       "6  2017Q2    Americas   2.88        \n",
       "7  2017Q3    Americas   1.03        \n",
       "8  2016Q1    APAC       1.96        \n",
       "9  2016Q2    APAC       3.18        \n",
       "10 2016Q3    APAC       4.23        \n",
       "11 2016Q4    APAC       7.32        \n",
       "12 2017Q1    APAC       8.10        \n",
       "13 2017Q2    APAC       7.23        \n",
       "14 2017Q3    APAC      11.19        \n",
       "15 2016Q1    EMEA       6.01        \n",
       "16 2016Q2    EMEA       7.26        \n",
       "17 2016Q3    EMEA      -1.26        \n",
       "18 2016Q4    EMEA      -1.92        \n",
       "19 2017Q1    EMEA       2.06        \n",
       "20 2017Q2    EMEA       1.44        \n",
       "21 2017Q3    EMEA       8.44        \n",
       "22 2016Q1    NULL       2.99        \n",
       "23 2016Q2    NULL       0.53        \n",
       "24 2016Q3    NULL      -0.91        \n",
       "25 2016Q4    NULL      -0.58        \n",
       "26 2017Q1    NULL       3.63        \n",
       "27 2017Q2    NULL       6.75        \n",
       "28 2017Q3    NULL       6.50        "
      ]
     },
     "metadata": {},
     "output_type": "display_data"
    }
   ],
   "source": [
    "Weighted_Geo_spend_YoY_2"
   ]
  },
  {
   "cell_type": "code",
   "execution_count": 32,
   "metadata": {},
   "outputs": [
    {
     "data": {},
     "metadata": {},
     "output_type": "display_data"
    },
    {
     "data": {
      "image/png": "[encoded data removed]",
      "text/plain": [
       "plot without title"
      ]
     },
     "metadata": {},
     "output_type": "display_data"
    }
   ],
   "source": [
    "Geo_spend_Amount<-ExpenseIndex_Geo_spend_sum %>% \n",
    "mutate(Amount_Spend = total_2015Q4+total_2016Q1+total_2016Q2+total_2016Q3+total_2016Q4+total_2017Q1 +total_2017Q2+total_2017Q3)\n",
    "Region_spend <- Geo_spend_Amount%>% mutate(Amount_cotribution = round(Amount_Spend/sum(Amount_Spend)*100,2))\n",
    "\n",
    "ggplot(Region_spend, aes(x=\"\",y=Amount_cotribution, fill=entry_region)) + \n",
    "geom_bar(width = 1,stat = \"identity\") + coord_polar(\"y\")+ theme_minimal()+ \n",
    "theme(legend.text = element_text(size=8))+ theme(title =element_text(size=10, face='bold'), \n",
    "    axis.text = element_blank(),\n",
    "    axis.text.y = element_blank(),\n",
    "    axis.title.y =element_blank(),                                             \n",
    "    axis.ticks = element_blank(),\n",
    "    panel.grid  = element_blank()) + theme(title =element_text(size=7,face='bold'))+ \n",
    "scale_fill_manual(\"Spend Region\",values=c(\"#2471A3\",\"#5DADE2\",\"#73C6B6\",\"#52BE80\"))+\n",
    "#scale_fill_brewer(palette =\"Dark2\") + \n",
    "geom_text(aes(label = paste0(Amount_cotribution,\"%\")), position = position_stack(vjust = 0.5),size=2)+\n",
    "labs(title = \"Spend % share by transaction region \")"
   ]
  }
 ],
 "metadata": {
  "kernelspec": {
   "display_name": "R",
   "language": "R",
   "name": "ir"
  },
  "language_info": {
   "codemirror_mode": "r",
   "file_extension": ".r",
   "mimetype": "text/x-r-source",
   "name": "R",
   "pygments_lexer": "r",
   "version": "3.4.2"
  }
 },
 "nbformat": 4,
 "nbformat_minor": 2
}
