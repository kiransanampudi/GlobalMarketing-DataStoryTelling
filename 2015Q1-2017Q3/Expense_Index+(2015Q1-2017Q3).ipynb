{
 "cells": [
  {
   "cell_type": "markdown",
   "metadata": {},
   "source": [
    "<div style=\"width:100%;\"> \n",
    "<div style=\"float:left; width:70%;\">\n",
    "<h1 style=\"color:#0078c9;\"> Expense Index Q3 2017</h1>\n",
    "</div>\n",
    "<div style=\"float:right; width:30%;\">\n",
    "<img src=\"https://seeklogo.com/images/C/concur-logo-F866D9D47F-seeklogo.com.png\" align=\"right\" width=\"45px\" height=\"45px\"/>\n",
    "</div>\n",
    "</div>"
   ]
  },
  {
   "cell_type": "code",
   "execution_count": 71,
   "metadata": {},
   "outputs": [
    {
     "data": {
      "text/html": [
       "'E:/Expense_Index_Floders/2017Q3_Expense_Index/EXPENSE INDEX REFRESH 17Q3/Submit_Date/2017Q3 (submit_date_key)/2015Q1-2017Q3'"
      ],
      "text/latex": [
       "'E:/Expense\\_Index\\_Floders/2017Q3\\_Expense\\_Index/EXPENSE INDEX REFRESH 17Q3/Submit\\_Date/2017Q3 (submit\\_date\\_key)/2015Q1-2017Q3'"
      ],
      "text/markdown": [
       "'E:/Expense_Index_Floders/2017Q3_Expense_Index/EXPENSE INDEX REFRESH 17Q3/Submit_Date/2017Q3 (submit_date_key)/2015Q1-2017Q3'"
      ],
      "text/plain": [
       "[1] \"E:/Expense_Index_Floders/2017Q3_Expense_Index/EXPENSE INDEX REFRESH 17Q3/Submit_Date/2017Q3 (submit_date_key)/2015Q1-2017Q3\""
      ]
     },
     "metadata": {},
     "output_type": "display_data"
    }
   ],
   "source": [
    "setwd(\"E:/Expense_Index_Floders/2017Q3_Expense_Index/EXPENSE INDEX REFRESH 17Q3/Submit_Date/2017Q3 (submit_date_key)/2015Q1-2017Q3\")\n",
    "getwd()"
   ]
  },
  {
   "cell_type": "code",
   "execution_count": 72,
   "metadata": {
    "collapsed": true
   },
   "outputs": [],
   "source": [
    "#-------------Required libraries---------------------------------------------------------\n",
    "options( warn = -1 )\n",
    "library(ggplot2)\n",
    "library(ggthemes)\n",
    "library(extrafont)\n",
    "library(dplyr)\n",
    "library(scales)\n",
    "library(bdscale)\n",
    "library(tidyr)\n",
    "options(scipen=1000000)"
   ]
  },
  {
   "cell_type": "code",
   "execution_count": 74,
   "metadata": {},
   "outputs": [],
   "source": [
    "#---------------Input data Files---------------------------------------------------------\n",
    "#---------------Global performnace on YOY growth ----------------------------------------\n",
    "ExpenseIndex_17Q1 <-read.csv(\"Expenseindex_2015Q1_2017Q3.csv\")\n",
    "#colnames(ExpenseIndex_17Q3)\n",
    "\n",
    "#---------------Segment wise performnace  ----------------------------------------\n",
    "ExpenseIndex_Segment <-read.csv(\"Expenseindex_2015Q1_2017Q3_segment.csv\")\n",
    "#colnames(ExpenseIndex_SMN)\n",
    "\n",
    "#---------------Geo wise performnace  -------------------------------------------\n",
    "#ExpenseIndex_Geo <-read.csv(\"Expense_Index_Geo.csv\")\n",
    "#colnames(ExpenseIndex_Geo)"
   ]
  },
  {
   "cell_type": "code",
   "execution_count": 75,
   "metadata": {
    "collapsed": true
   },
   "outputs": [],
   "source": [
    "ExpenseIndex_YOY<-ExpenseIndex_17Q1 %>% \n",
    "mutate(YOY_1615Q1= ((X2016Q1-X2015Q1)/X2015Q1)*((X2015Q1+X2016Q1)/sum(X2015Q1+X2016Q1)),\n",
    "       YOY_1615Q2= ((X2016Q2-X2015Q2)/X2015Q2)*((X2015Q2+X2016Q2)/sum(X2015Q2+X2016Q2)),\n",
    "       YOY_1615Q3= ((X2016Q3-X2015Q3)/X2015Q3)*((X2015Q3+X2016Q3)/sum(X2015Q3+X2016Q3)),\n",
    "       YOY_1615Q4= ((X2016Q4-X2015Q4)/X2015Q4)*((X2015Q4+X2016Q4)/sum(X2015Q4+X2016Q4)),\n",
    "       YOY_1716Q1= ((X2017Q1-X2016Q1)/X2016Q1)*((X2016Q1+X2017Q1)/sum(X2016Q1+X2017Q1)),\n",
    "       YOY_1716Q2= ((X2017Q2-X2016Q2)/X2016Q2)*((X2016Q2+X2017Q2)/sum(X2016Q2+X2017Q2)),\n",
    "       YOY_1716Q3= ((X2017Q3-X2016Q3)/X2016Q3)*((X2016Q3+X2017Q3)/sum(X2016Q3+X2017Q3))\n",
    "      )\n",
    "\n",
    "Quarter<- c(\"2016Q1\",\"2016Q2\",\"2016Q3\",\"2016Q4\",\"2017Q1\",\"2017Q2\",\"2017Q3\")\n",
    "Weighted_YoY<-c(\n",
    "round(sum(ExpenseIndex_YOY$YOY_1615Q1)*100,2),\n",
    "round(sum(ExpenseIndex_YOY$YOY_1615Q2)*100,2),\n",
    "round(sum(ExpenseIndex_YOY$YOY_1615Q3)*100,2),\n",
    "round(sum(ExpenseIndex_YOY$YOY_1615Q4)*100,2),\n",
    "round(sum(ExpenseIndex_YOY$YOY_1716Q1)*100,2),\n",
    "round(sum(ExpenseIndex_YOY$YOY_1716Q2)*100,2),\n",
    "round(sum(ExpenseIndex_YOY$YOY_1716Q3)*100,2)\n",
    ")\n",
    "Weighted_YoY_17Q3 <-data.frame(Quarter,Weighted_YoY)\n"
   ]
  },
  {
   "cell_type": "code",
   "execution_count": 76,
   "metadata": {},
   "outputs": [
    {
     "data": {},
     "metadata": {},
     "output_type": "display_data"
    },
    {
     "data": {
      "image/png": "[encoded data removed]",
      "text/plain": [
       "plot without title"
      ]
     },
     "metadata": {},
     "output_type": "display_data"
    }
   ],
   "source": [
    "options(repr.plot.width=7, repr.plot.height=3)\n",
    "ggplot(aes(x=Quarter,y=Weighted_YoY,label=Weighted_YoY),data=Weighted_YoY_17Q3)+ \n",
    "geom_bar(stat=\"identity\",fill=\"#0078c9\")+\n",
    "theme_minimal()+\n",
    "theme(title =element_text(size=7))+\n",
    "theme(axis.text.x = element_text(colour=\"grey20\",size=7),,axis.text.y = element_text(colour=\"grey20\",size=7))+\n",
    "geom_text(size = 2, position = position_stack(vjust = 0.5))+\n",
    "labs(title = \"Spend weighted YoY growth per quarter\",x=\"Quarter\",y=\"YoY growth weighted by company spend\")"
   ]
  },
  {
   "cell_type": "code",
   "execution_count": 77,
   "metadata": {},
   "outputs": [],
   "source": [
    "ExpenseIndex_Segment_YoY <-ExpenseIndex_Segment%>%group_by(Segment)%>%\n",
    "mutate(YOY_1615Q1= ((X2016Q1-X2015Q1)/X2015Q1)*((X2015Q1+X2016Q1)/sum(X2015Q1+X2016Q1)),\n",
    "       YOY_1615Q2= ((X2016Q2-X2015Q2)/X2015Q2)*((X2015Q2+X2016Q2)/sum(X2015Q2+X2016Q2)),\n",
    "       YOY_1615Q3= ((X2016Q3-X2015Q3)/X2015Q3)*((X2015Q3+X2016Q3)/sum(X2015Q3+X2016Q3)),\n",
    "       YOY_1615Q4= ((X2016Q4-X2015Q4)/X2015Q4)*((X2015Q4+X2016Q4)/sum(X2015Q4+X2016Q4)),\n",
    "       YOY_1716Q1= ((X2017Q1-X2016Q1)/X2016Q1)*((X2016Q1+X2017Q1)/sum(X2016Q1+X2017Q1)),\n",
    "      YOY_1716Q2= ((X2017Q2-X2016Q2)/X2016Q2)*((X2016Q2+X2017Q2)/sum(X2016Q2+X2017Q2)),\n",
    "      YOY_1716Q3= ((X2017Q3-X2016Q3)/X2016Q3)*((X2016Q3+X2017Q3)/sum(X2016Q3+X2017Q3))\n",
    "      )\n",
    "      \n",
    "ExpenseIndex_ENT_YoY<- subset(ExpenseIndex_Segment_YoY,Segment =='ENT')\n",
    "ExpenseIndex_SMN_YoY<- subset(ExpenseIndex_Segment_YoY,Segment =='SMN')\n",
    "Qtr<- c(\"2016Q1\",\"2016Q2\",\"2016Q3\",\"2016Q4\",\"2017Q1\",\"2017Q2\",\"2017Q3\",\n",
    "            \"2016Q1\",\"2016Q2\",\"2016Q3\",\"2016Q4\",\"2017Q1\",\"2017Q2\",\"2017Q3\")\n",
    "Segment<-c(\"ENT\",\"ENT\",\"ENT\",\"ENT\",\"ENT\",\"ENT\",\"ENT\",\"SMN\",\"SMN\",\"SMN\",\"SMN\",\"SMN\",\"SMN\",\"SMN\")\n",
    "Segment_YoY<-c(\n",
    "round(sum(ExpenseIndex_ENT_YoY$YOY_1615Q1)*100,2),\n",
    "round(sum(ExpenseIndex_ENT_YoY$YOY_1615Q2)*100,2),\n",
    "round(sum(ExpenseIndex_ENT_YoY$YOY_1615Q3)*100,2),\n",
    "round(sum(ExpenseIndex_ENT_YoY$YOY_1615Q4)*100,2),\n",
    "round(sum(ExpenseIndex_ENT_YoY$YOY_1716Q1)*100,2),\n",
    "round(sum(ExpenseIndex_ENT_YoY$YOY_1716Q2)*100,2),\n",
    "round(sum(ExpenseIndex_ENT_YoY$YOY_1716Q3)*100,2),\n",
    "round(sum(ExpenseIndex_SMN_YoY$YOY_1615Q1)*100,2),\n",
    "round(sum(ExpenseIndex_SMN_YoY$YOY_1615Q2)*100,2),\n",
    "round(sum(ExpenseIndex_SMN_YoY$YOY_1615Q3)*100,2),\n",
    "round(sum(ExpenseIndex_SMN_YoY$YOY_1615Q4)*100,2),\n",
    "round(sum(ExpenseIndex_SMN_YoY$YOY_1716Q1)*100,2),\n",
    "round(sum(ExpenseIndex_SMN_YoY$YOY_1716Q2)*100,2),\n",
    "round(sum(ExpenseIndex_SMN_YoY$YOY_1716Q3)*100,2)\n",
    ")\n",
    "Weighted_Segment_YoY <-data.frame(Qtr,Segment,Segment_YoY)"
   ]
  },
  {
   "cell_type": "code",
   "execution_count": 86,
   "metadata": {},
   "outputs": [
    {
     "data": {},
     "metadata": {},
     "output_type": "display_data"
    },
    {
     "data": {
      "image/png": "[encoded data removed]",
      "text/plain": [
       "plot without title"
      ]
     },
     "metadata": {},
     "output_type": "display_data"
    }
   ],
   "source": [
    "ggplot(Weighted_Segment_YoY,aes(x =Qtr,y=Segment_YoY,group=Segment,color=Segment))+\n",
    "geom_line(size =0.2)+\n",
    "geom_point(size =0.4)+\n",
    "theme_minimal()+ theme(legend.title=element_blank()) + scale_color_manual(values=c(\"#FF1234\", \"#0072B2\"))+ \n",
    "theme(title =element_text(size=8))+ theme(legend.position=\"bottom\")+\n",
    "theme(axis.text.x = element_text(colour=\"grey20\",size=7),axis.text.y = element_text(colour=\"grey20\",size=7))+\n",
    "labs(title = \" YoY growth in spend by segment \",x=\"Quarters\",y=\"YoY growth in spend\")"
   ]
  },
  {
   "cell_type": "code",
   "execution_count": null,
   "metadata": {
    "collapsed": true
   },
   "outputs": [],
   "source": []
  }
 ],
 "metadata": {
  "kernelspec": {
   "display_name": "R",
   "language": "R",
   "name": "ir"
  },
  "language_info": {
   "codemirror_mode": "r",
   "file_extension": ".r",
   "mimetype": "text/x-r-source",
   "name": "R",
   "pygments_lexer": "r",
   "version": "3.4.2"
  }
 },
 "nbformat": 4,
 "nbformat_minor": 2
}
