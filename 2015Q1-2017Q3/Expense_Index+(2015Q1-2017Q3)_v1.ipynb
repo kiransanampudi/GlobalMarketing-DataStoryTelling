{
 "cells": [
  {
   "cell_type": "markdown",
   "metadata": {},
   "source": [
    "<div style=\"width:100%;\"> \n",
    "<div style=\"float:left; width:70%;\">\n",
    "<h1 style=\"color:#0078c9;\"> Expense Index Q3 2017</h1>\n",
    "</div>\n",
    "<div style=\"float:right; width:30%;\">\n",
    "<img src=\"https://seeklogo.com/images/C/concur-logo-F866D9D47F-seeklogo.com.png\" align=\"right\" width=\"45px\" height=\"45px\"/>\n",
    "</div>\n",
    "</div>"
   ]
  },
  {
   "cell_type": "markdown",
   "metadata": {},
   "source": [
    "The Concur Index is a first of its kind indicator for trends in business spend, based on a consistent set of over 8k+ Concur customers, who combined processed over $68B of expenses in 2016. We are using Concur-owned expense data to provide a recurring Index and companion stories that inform the market and speak to emerging trends. We will release the Index on a quarterly basis during the earnings period following quarter close."
   ]
  },
  {
   "cell_type": "markdown",
   "metadata": {},
   "source": [
    "8,392 companies\n",
    "$186,701,266,247 of spend over 11 quarters"
   ]
  },
  {
   "cell_type": "code",
   "execution_count": 71,
   "metadata": {},
   "outputs": [
    {
     "data": {
      "text/html": [
       "'E:/Expense_Index_Floders/2017Q3_Expense_Index/EXPENSE INDEX REFRESH 17Q3/Submit_Date/2017Q3 (submit_date_key)/2015Q1-2017Q3'"
      ],
      "text/latex": [
       "'E:/Expense\\_Index\\_Floders/2017Q3\\_Expense\\_Index/EXPENSE INDEX REFRESH 17Q3/Submit\\_Date/2017Q3 (submit\\_date\\_key)/2015Q1-2017Q3'"
      ],
      "text/markdown": [
       "'E:/Expense_Index_Floders/2017Q3_Expense_Index/EXPENSE INDEX REFRESH 17Q3/Submit_Date/2017Q3 (submit_date_key)/2015Q1-2017Q3'"
      ],
      "text/plain": [
       "[1] \"E:/Expense_Index_Floders/2017Q3_Expense_Index/EXPENSE INDEX REFRESH 17Q3/Submit_Date/2017Q3 (submit_date_key)/2015Q1-2017Q3\""
      ]
     },
     "metadata": {},
     "output_type": "display_data"
    }
   ],
   "source": [
    "setwd(\"E:/Expense_Index_Floders/2017Q3_Expense_Index/EXPENSE INDEX REFRESH 17Q3/Submit_Date/2017Q3 (submit_date_key)/2015Q1-2017Q3\")\n",
    "getwd()"
   ]
  },
  {
   "cell_type": "code",
   "execution_count": 72,
   "metadata": {
    "collapsed": true
   },
   "outputs": [],
   "source": [
    "#-------------Required libraries---------------------------------------------------------\n",
    "options( warn = -1 )\n",
    "library(ggplot2)\n",
    "library(ggthemes)\n",
    "library(extrafont)\n",
    "library(dplyr)\n",
    "library(scales)\n",
    "library(bdscale)\n",
    "library(tidyr)\n",
    "options(scipen=1000000)"
   ]
  },
  {
   "cell_type": "code",
   "execution_count": 73,
   "metadata": {
    "collapsed": true
   },
   "outputs": [],
   "source": [
    "#---------------Input data Files---------------------------------------------------------\n",
    "#---------------Global performnace on YOY growth ----------------------------------------\n",
    "ExpenseIndex_17Q1 <-read.csv(\"Expenseindex_2015Q1_2017Q3.csv\")\n",
    "#colnames(ExpenseIndex_17Q3)\n",
    "\n",
    "#---------------Segment wise performnace  ----------------------------------------\n",
    "ExpenseIndex_Segment <-read.csv(\"Expenseindex_2015Q1_2017Q3_segment.csv\")\n",
    "#colnames(ExpenseIndex_SMN)\n",
    "\n",
    "#---------------Geo wise performnace  -------------------------------------------\n",
    "ExpenseIndex_Geo <-read.csv(\"Expenseindex_2015Q1_2017Q3_GEO.csv\")\n",
    "#colnames(ExpenseIndex_Geo)"
   ]
  },
  {
   "cell_type": "code",
   "execution_count": 74,
   "metadata": {
    "collapsed": true
   },
   "outputs": [],
   "source": [
    "ExpenseIndex_YOY<-ExpenseIndex_17Q1 %>% \n",
    "mutate(YOY_1615Q1= ((X2016Q1-X2015Q1)/X2015Q1)*((X2015Q1+X2016Q1)/sum(X2015Q1+X2016Q1)),\n",
    "       YOY_1615Q2= ((X2016Q2-X2015Q2)/X2015Q2)*((X2015Q2+X2016Q2)/sum(X2015Q2+X2016Q2)),\n",
    "       YOY_1615Q3= ((X2016Q3-X2015Q3)/X2015Q3)*((X2015Q3+X2016Q3)/sum(X2015Q3+X2016Q3)),\n",
    "       YOY_1615Q4= ((X2016Q4-X2015Q4)/X2015Q4)*((X2015Q4+X2016Q4)/sum(X2015Q4+X2016Q4)),\n",
    "       YOY_1716Q1= ((X2017Q1-X2016Q1)/X2016Q1)*((X2016Q1+X2017Q1)/sum(X2016Q1+X2017Q1)),\n",
    "       YOY_1716Q2= ((X2017Q2-X2016Q2)/X2016Q2)*((X2016Q2+X2017Q2)/sum(X2016Q2+X2017Q2)),\n",
    "       YOY_1716Q3= ((X2017Q3-X2016Q3)/X2016Q3)*((X2016Q3+X2017Q3)/sum(X2016Q3+X2017Q3))\n",
    "      )\n",
    "\n",
    "Quarter<- c(\"2016Q1\",\"2016Q2\",\"2016Q3\",\"2016Q4\",\"2017Q1\",\"2017Q2\",\"2017Q3\")\n",
    "Weighted_YoY<-c(\n",
    "round(sum(ExpenseIndex_YOY$YOY_1615Q1)*100,2),\n",
    "round(sum(ExpenseIndex_YOY$YOY_1615Q2)*100,2),\n",
    "round(sum(ExpenseIndex_YOY$YOY_1615Q3)*100,2),\n",
    "round(sum(ExpenseIndex_YOY$YOY_1615Q4)*100,2),\n",
    "round(sum(ExpenseIndex_YOY$YOY_1716Q1)*100,2),\n",
    "round(sum(ExpenseIndex_YOY$YOY_1716Q2)*100,2),\n",
    "round(sum(ExpenseIndex_YOY$YOY_1716Q3)*100,2)\n",
    ")\n",
    "Weighted_YoY_17Q3 <-data.frame(Quarter,Weighted_YoY)\n"
   ]
  },
  {
   "cell_type": "code",
   "execution_count": 75,
   "metadata": {},
   "outputs": [
    {
     "data": {},
     "metadata": {},
     "output_type": "display_data"
    },
    {
     "data": {
      "image/png": "[encoded data removed]",
      "text/plain": [
       "plot without title"
      ]
     },
     "metadata": {},
     "output_type": "display_data"
    }
   ],
   "source": [
    "options(repr.plot.width=7, repr.plot.height=3)\n",
    "ggplot(aes(x=Quarter,y=Weighted_YoY,label=Weighted_YoY),data=Weighted_YoY_17Q3)+ \n",
    "geom_bar(stat=\"identity\",fill=\"#0078c9\")+\n",
    "theme_minimal()+\n",
    "theme(title =element_text(size=7))+\n",
    "theme(axis.text.x = element_text(colour=\"grey20\",size=7),,axis.text.y = element_text(colour=\"grey20\",size=7))+\n",
    "geom_text(size = 2, position = position_stack(vjust = 0.5))+\n",
    "labs(title = \"Spend weighted YoY growth per quarter\",x=\"Quarter\",y=\"YoY growth weighted by company spend\")"
   ]
  },
  {
   "cell_type": "markdown",
   "metadata": {},
   "source": [
    "1. YoY Trend got rised from 2017Q1 to 17'Q3.\n",
    "2. In 17'Q3 , Spend got incresed by 7.67% compare to previous year"
   ]
  },
  {
   "cell_type": "code",
   "execution_count": 76,
   "metadata": {
    "collapsed": true
   },
   "outputs": [],
   "source": [
    "ExpenseIndex_Segment_YoY <-ExpenseIndex_Segment%>%group_by(Segment)%>%\n",
    "mutate(YOY_1615Q1= ((X2016Q1-X2015Q1)/X2015Q1)*((X2015Q1+X2016Q1)/sum(X2015Q1+X2016Q1)),\n",
    "       YOY_1615Q2= ((X2016Q2-X2015Q2)/X2015Q2)*((X2015Q2+X2016Q2)/sum(X2015Q2+X2016Q2)),\n",
    "       YOY_1615Q3= ((X2016Q3-X2015Q3)/X2015Q3)*((X2015Q3+X2016Q3)/sum(X2015Q3+X2016Q3)),\n",
    "       YOY_1615Q4= ((X2016Q4-X2015Q4)/X2015Q4)*((X2015Q4+X2016Q4)/sum(X2015Q4+X2016Q4)),\n",
    "       YOY_1716Q1= ((X2017Q1-X2016Q1)/X2016Q1)*((X2016Q1+X2017Q1)/sum(X2016Q1+X2017Q1)),\n",
    "      YOY_1716Q2= ((X2017Q2-X2016Q2)/X2016Q2)*((X2016Q2+X2017Q2)/sum(X2016Q2+X2017Q2)),\n",
    "      YOY_1716Q3= ((X2017Q3-X2016Q3)/X2016Q3)*((X2016Q3+X2017Q3)/sum(X2016Q3+X2017Q3))\n",
    "      )\n",
    "      \n",
    "ExpenseIndex_ENT_YoY<- subset(ExpenseIndex_Segment_YoY,Segment =='ENT')\n",
    "ExpenseIndex_SMN_YoY<- subset(ExpenseIndex_Segment_YoY,Segment =='SMN')\n",
    "Qtr<- c(\"2016Q1\",\"2016Q2\",\"2016Q3\",\"2016Q4\",\"2017Q1\",\"2017Q2\",\"2017Q3\",\n",
    "            \"2016Q1\",\"2016Q2\",\"2016Q3\",\"2016Q4\",\"2017Q1\",\"2017Q2\",\"2017Q3\")\n",
    "Segment<-c(\"ENT\",\"ENT\",\"ENT\",\"ENT\",\"ENT\",\"ENT\",\"ENT\",\"SMN\",\"SMN\",\"SMN\",\"SMN\",\"SMN\",\"SMN\",\"SMN\")\n",
    "Segment_YoY<-c(\n",
    "round(sum(ExpenseIndex_ENT_YoY$YOY_1615Q1)*100,2),\n",
    "round(sum(ExpenseIndex_ENT_YoY$YOY_1615Q2)*100,2),\n",
    "round(sum(ExpenseIndex_ENT_YoY$YOY_1615Q3)*100,2),\n",
    "round(sum(ExpenseIndex_ENT_YoY$YOY_1615Q4)*100,2),\n",
    "round(sum(ExpenseIndex_ENT_YoY$YOY_1716Q1)*100,2),\n",
    "round(sum(ExpenseIndex_ENT_YoY$YOY_1716Q2)*100,2),\n",
    "round(sum(ExpenseIndex_ENT_YoY$YOY_1716Q3)*100,2),\n",
    "round(sum(ExpenseIndex_SMN_YoY$YOY_1615Q1)*100,2),\n",
    "round(sum(ExpenseIndex_SMN_YoY$YOY_1615Q2)*100,2),\n",
    "round(sum(ExpenseIndex_SMN_YoY$YOY_1615Q3)*100,2),\n",
    "round(sum(ExpenseIndex_SMN_YoY$YOY_1615Q4)*100,2),\n",
    "round(sum(ExpenseIndex_SMN_YoY$YOY_1716Q1)*100,2),\n",
    "round(sum(ExpenseIndex_SMN_YoY$YOY_1716Q2)*100,2),\n",
    "round(sum(ExpenseIndex_SMN_YoY$YOY_1716Q3)*100,2)\n",
    ")\n",
    "Weighted_Segment_YoY <-data.frame(Qtr,Segment,Segment_YoY)"
   ]
  },
  {
   "cell_type": "code",
   "execution_count": 77,
   "metadata": {},
   "outputs": [
    {
     "data": {},
     "metadata": {},
     "output_type": "display_data"
    },
    {
     "data": {
      "image/png": "[encoded data removed]",
      "text/plain": [
       "plot without title"
      ]
     },
     "metadata": {},
     "output_type": "display_data"
    }
   ],
   "source": [
    "ggplot(Weighted_Segment_YoY,aes(x =Qtr,y=Segment_YoY,group=Segment,color=Segment))+\n",
    "geom_line(size =0.2)+\n",
    "geom_point(size =0.4)+\n",
    "theme_minimal()+ theme(legend.title=element_blank()) + scale_color_manual(values=c(\"#FF1234\", \"#0072B2\"))+ \n",
    "theme(title =element_text(size=8))+ theme(legend.position=\"bottom\")+\n",
    "theme(axis.text.x = element_text(colour=\"grey20\",size=7),axis.text.y = element_text(colour=\"grey20\",size=7))+\n",
    "labs(title = \" YoY growth in spend by segment \",x=\"Quarters\",y=\"YoY growth in spend\")"
   ]
  },
  {
   "cell_type": "markdown",
   "metadata": {},
   "source": [
    "1. ENT companies got incresed in 17'Q3 and showing continuos rising trend from 17'Q1 to 17'Q3\n",
    "2. ENT companies are following the overall trend.\n",
    "3. SMN companies got dropped slightly in 17'Q3."
   ]
  },
  {
   "cell_type": "markdown",
   "metadata": {},
   "source": [
    "##### SPEND BUCKETS"
   ]
  },
  {
   "cell_type": "code",
   "execution_count": 98,
   "metadata": {},
   "outputs": [],
   "source": [
    "ExpenseIndex_Buckets<-ExpenseIndex_17Q1%>%group_by(COMPANY_NAME)%>%\n",
    "mutate(total =X2015Q1+X2015Q2+X2015Q3+X2015Q4+X2016Q1+X2016Q2+X2016Q3+X2016Q4+X2017Q1+X2017Q2+X2017Q3)\n",
    "Bucket1<- subset(ExpenseIndex_Buckets,total > 0 & total <= 1000000)\n",
    "Bucket2<- subset(ExpenseIndex_Buckets,total > 1000000 & total <= 50000000)\n",
    "Bucket3<- subset(ExpenseIndex_Buckets,total > 50000000 & total <= 100000000)\n",
    "Bucket4<- subset(ExpenseIndex_Buckets,total > 100000000 & total <= 1000000000)\n",
    "Bucket5<- subset(ExpenseIndex_Buckets,total > 1000000000 & total <= 5000000000)\n",
    "Bucket1<- data.frame(Bucket1)\n",
    "Bucket2<- data.frame(Bucket2)\n",
    "Bucket3<- data.frame(Bucket3)\n",
    "Bucket4<- data.frame(Bucket4)\n",
    "Bucket5<- data.frame(Bucket5)"
   ]
  },
  {
   "cell_type": "code",
   "execution_count": 99,
   "metadata": {
    "scrolled": false
   },
   "outputs": [
    {
     "data": {},
     "metadata": {},
     "output_type": "display_data"
    },
    {
     "data": {},
     "metadata": {},
     "output_type": "display_data"
    },
    {
     "data": {
      "image/png": "[encoded data removed]",
      "text/plain": [
       "plot without title"
      ]
     },
     "metadata": {},
     "output_type": "display_data"
    },
    {
     "data": {},
     "metadata": {},
     "output_type": "display_data"
    },
    {
     "data": {
      "image/png": "[encoded data removed]",
      "text/plain": [
       "plot without title"
      ]
     },
     "metadata": {},
     "output_type": "display_data"
    },
    {
     "data": {},
     "metadata": {},
     "output_type": "display_data"
    },
    {
     "data": {
      "image/png": "[encoded data removed]",
      "text/plain": [
       "plot without title"
      ]
     },
     "metadata": {},
     "output_type": "display_data"
    },
    {
     "data": {},
     "metadata": {},
     "output_type": "display_data"
    },
    {
     "data": {
      "image/png": "[encoded data removed]",
      "text/plain": [
       "plot without title"
      ]
     },
     "metadata": {},
     "output_type": "display_data"
    },
    {
     "data": {
      "image/png": "[encoded data removed]",
      "text/plain": [
       "plot without title"
      ]
     },
     "metadata": {},
     "output_type": "display_data"
    }
   ],
   "source": [
    "Bucket1_2_YoY<-Bucket1 %>%\n",
    "mutate(\n",
    "       YOY_1615Q1= ((X2016Q1-X2015Q1)/X2015Q1)*((X2015Q1+X2016Q1)/sum(X2015Q1+X2016Q1)),\n",
    "       YOY_1615Q2= ((X2016Q2-X2015Q2)/X2015Q2)*((X2015Q2+X2016Q2)/sum(X2015Q2+X2016Q2)),\n",
    "       YOY_1615Q3= ((X2016Q3-X2015Q3)/X2015Q3)*((X2015Q3+X2016Q3)/sum(X2015Q3+X2016Q3)),\n",
    "       YOY_1615Q4= ((X2016Q4-X2015Q4)/X2015Q4)*((X2015Q4+X2016Q4)/sum(X2015Q4+X2016Q4)),\n",
    "       YOY_1716Q1= ((X2017Q1-X2016Q1)/X2016Q1)*((X2016Q1+X2017Q1)/sum(X2016Q1+X2017Q1)),\n",
    "       YOY_1716Q2= ((X2017Q2-X2016Q2)/X2016Q2)*((X2016Q2+X2017Q2)/sum(X2016Q2+X2017Q2)),\n",
    "       YOY_1716Q3= ((X2017Q3-X2016Q3)/X2016Q3)*((X2016Q3+X2017Q3)/sum(X2016Q3+X2017Q3))\n",
    "      )\n",
    "\n",
    "Bucket1_Qtr<- c(\"2016Q1\",\"2016Q2\",\"2016Q3\",\"2016Q4\",\"2017Q1\",\"2017Q2\",\"2017Q3\")\n",
    "Bucket1_YoY<-c(\n",
    "round(sum(Bucket1_2_YoY$YOY_1615Q1)*100,2),\n",
    "round(sum(Bucket1_2_YoY$YOY_1615Q2)*100,2),\n",
    "round(sum(Bucket1_2_YoY$YOY_1615Q3)*100,2),\n",
    "round(sum(Bucket1_2_YoY$YOY_1615Q4)*100,2),\n",
    "round(sum(Bucket1_2_YoY$YOY_1716Q1)*100,2),\n",
    "round(sum(Bucket1_2_YoY$YOY_1716Q2)*100,2),\n",
    "round(sum(Bucket1_2_YoY$YOY_1716Q3)*100,2)\n",
    ")\n",
    "Bucket1_YoY_2 <-data.frame(Bucket1_Qtr,Bucket1_YoY) \n",
    "ggplot(Bucket1_YoY_2,aes(x =Bucket1_Qtr,y=Bucket1_YoY,group=1))+\n",
    "geom_line(size =0.2)+\n",
    "geom_point(size =0.4)+\n",
    "theme_minimal()+ theme(legend.title=element_blank()) + scale_color_manual(values=c(\"#f4a900\", \"#548d3d\"))+ \n",
    "theme(title =element_text(size=8))+ theme(legend.position=\"bottom\")+\n",
    "theme(axis.text.x = element_text(colour=\"grey20\",size=7),axis.text.y = element_text(colour=\"grey20\",size=7))+\n",
    "labs(title = \" YoY growth in Bucket 1 (Between $0 to $10M Reimbursemet in last 11 Quarters) \",x=\"Quarters\",y=\"YoY growth in spend\")\n",
    "\n",
    "Bucket2_2_YoY<-Bucket2 %>%\n",
    "mutate(\n",
    "       YOY_1615Q1= ((X2016Q1-X2015Q1)/X2015Q1)*((X2015Q1+X2016Q1)/sum(X2015Q1+X2016Q1)),\n",
    "       YOY_1615Q2= ((X2016Q2-X2015Q2)/X2015Q2)*((X2015Q2+X2016Q2)/sum(X2015Q2+X2016Q2)),\n",
    "       YOY_1615Q3= ((X2016Q3-X2015Q3)/X2015Q3)*((X2015Q3+X2016Q3)/sum(X2015Q3+X2016Q3)),\n",
    "       YOY_1615Q4= ((X2016Q4-X2015Q4)/X2015Q4)*((X2015Q4+X2016Q4)/sum(X2015Q4+X2016Q4)),\n",
    "       YOY_1716Q1= ((X2017Q1-X2016Q1)/X2016Q1)*((X2016Q1+X2017Q1)/sum(X2016Q1+X2017Q1)),\n",
    "       YOY_1716Q2= ((X2017Q2-X2016Q2)/X2016Q2)*((X2016Q2+X2017Q2)/sum(X2016Q2+X2017Q2)),\n",
    "       YOY_1716Q3= ((X2017Q3-X2016Q3)/X2016Q3)*((X2016Q3+X2017Q3)/sum(X2016Q3+X2017Q3))\n",
    "      )\n",
    "\n",
    "Bucket2_Qtr<- c(\"2016Q1\",\"2016Q2\",\"2016Q3\",\"2016Q4\",\"2017Q1\",\"2017Q2\",\"2017Q3\")\n",
    "Bucket2_YoY<-c(\n",
    "round(sum(Bucket2_2_YoY$YOY_1615Q1)*100,2),\n",
    "round(sum(Bucket2_2_YoY$YOY_1615Q2)*100,2),\n",
    "round(sum(Bucket2_2_YoY$YOY_1615Q3)*100,2),\n",
    "round(sum(Bucket2_2_YoY$YOY_1615Q4)*100,2),\n",
    "round(sum(Bucket2_2_YoY$YOY_1716Q1)*100,2),\n",
    "round(sum(Bucket2_2_YoY$YOY_1716Q2)*100,2),\n",
    "round(sum(Bucket2_2_YoY$YOY_1716Q3)*100,2)\n",
    ")\n",
    "Bucket2_YoY_2 <-data.frame(Bucket2_Qtr,Bucket2_YoY) \n",
    "ggplot(Bucket2_YoY_2,aes(x =Bucket2_Qtr,y=Bucket2_YoY,group=1))+\n",
    "geom_line(size =0.2)+\n",
    "geom_point(size =0.4)+\n",
    "theme_minimal()+ theme(legend.title=element_blank()) + scale_color_manual(values=c(\"#f4a900\", \"#548d3d\"))+ \n",
    "theme(title =element_text(size=8))+ theme(legend.position=\"bottom\")+\n",
    "theme(axis.text.x = element_text(colour=\"grey20\",size=7),axis.text.y = element_text(colour=\"grey20\",size=7))+\n",
    "labs(title = \" YoY growth in Bucket2 (Between $10M to $50M Reimbursemet in last 11 Quarters)\",x=\"Quarters\",y=\"YoY growth in spend\")\n",
    "\n",
    "\n",
    "\n",
    "Bucket3_2_YoY<-Bucket3 %>%\n",
    "mutate(\n",
    "       YOY_1615Q1= ((X2016Q1-X2015Q1)/X2015Q1)*((X2015Q1+X2016Q1)/sum(X2015Q1+X2016Q1)),\n",
    "       YOY_1615Q2= ((X2016Q2-X2015Q2)/X2015Q2)*((X2015Q2+X2016Q2)/sum(X2015Q2+X2016Q2)),\n",
    "       YOY_1615Q3= ((X2016Q3-X2015Q3)/X2015Q3)*((X2015Q3+X2016Q3)/sum(X2015Q3+X2016Q3)),\n",
    "       YOY_1615Q4= ((X2016Q4-X2015Q4)/X2015Q4)*((X2015Q4+X2016Q4)/sum(X2015Q4+X2016Q4)),\n",
    "       YOY_1716Q1= ((X2017Q1-X2016Q1)/X2016Q1)*((X2016Q1+X2017Q1)/sum(X2016Q1+X2017Q1)),\n",
    "       YOY_1716Q2= ((X2017Q2-X2016Q2)/X2016Q2)*((X2016Q2+X2017Q2)/sum(X2016Q2+X2017Q2)),\n",
    "       YOY_1716Q3= ((X2017Q3-X2016Q3)/X2016Q3)*((X2016Q3+X2017Q3)/sum(X2016Q3+X2017Q3))\n",
    "      )\n",
    "\n",
    "Bucket3_Qtr<- c(\"2016Q1\",\"2016Q2\",\"2016Q3\",\"2016Q4\",\"2017Q1\",\"2017Q2\",\"2017Q3\")\n",
    "Bucket3_YoY<-c(\n",
    "round(sum(Bucket3_2_YoY$YOY_1615Q1)*100,2),\n",
    "round(sum(Bucket3_2_YoY$YOY_1615Q2)*100,2),\n",
    "round(sum(Bucket3_2_YoY$YOY_1615Q3)*100,2),\n",
    "round(sum(Bucket3_2_YoY$YOY_1615Q4)*100,2),\n",
    "round(sum(Bucket3_2_YoY$YOY_1716Q1)*100,2),\n",
    "round(sum(Bucket3_2_YoY$YOY_1716Q2)*100,2),\n",
    "round(sum(Bucket3_2_YoY$YOY_1716Q3)*100,2)\n",
    ")\n",
    "Bucket3_YoY_2 <-data.frame(Bucket3_Qtr,Bucket3_YoY) \n",
    "ggplot(Bucket3_YoY_2,aes(x =Bucket3_Qtr,y=Bucket3_YoY,group=1))+\n",
    "geom_line(size =0.2)+\n",
    "geom_point(size =0.4)+\n",
    "theme_minimal()+ theme(legend.title=element_blank()) + scale_color_manual(values=c(\"#f4a900\", \"#548d3d\"))+ \n",
    "theme(title =element_text(size=8))+ theme(legend.position=\"bottom\")+\n",
    "theme(axis.text.x = element_text(colour=\"grey20\",size=7),axis.text.y = element_text(colour=\"grey20\",size=7))+\n",
    "labs(title = \" YoY growth in Bucket3 (Between $50M to $100M Reimbursemet in last 11 Quarters) \",x=\"Quarters\",y=\"YoY growth in spend\")\n",
    "\n",
    "Bucket4_2_YoY<-Bucket4 %>%\n",
    "mutate(\n",
    "       YOY_1615Q1= ((X2016Q1-X2015Q1)/X2015Q1)*((X2015Q1+X2016Q1)/sum(X2015Q1+X2016Q1)),\n",
    "       YOY_1615Q2= ((X2016Q2-X2015Q2)/X2015Q2)*((X2015Q2+X2016Q2)/sum(X2015Q2+X2016Q2)),\n",
    "       YOY_1615Q3= ((X2016Q3-X2015Q3)/X2015Q3)*((X2015Q3+X2016Q3)/sum(X2015Q3+X2016Q3)),\n",
    "       YOY_1615Q4= ((X2016Q4-X2015Q4)/X2015Q4)*((X2015Q4+X2016Q4)/sum(X2015Q4+X2016Q4)),\n",
    "       YOY_1716Q1= ((X2017Q1-X2016Q1)/X2016Q1)*((X2016Q1+X2017Q1)/sum(X2016Q1+X2017Q1)),\n",
    "       YOY_1716Q2= ((X2017Q2-X2016Q2)/X2016Q2)*((X2016Q2+X2017Q2)/sum(X2016Q2+X2017Q2)),\n",
    "       YOY_1716Q3= ((X2017Q3-X2016Q3)/X2016Q3)*((X2016Q3+X2017Q3)/sum(X2016Q3+X2017Q3))\n",
    "      )\n",
    "\n",
    "Bucket4_Qtr<- c(\"2016Q1\",\"2016Q2\",\"2016Q3\",\"2016Q4\",\"2017Q1\",\"2017Q2\",\"2017Q3\")\n",
    "Bucket4_YoY<-c(\n",
    "round(sum(Bucket4_2_YoY$YOY_1615Q1)*100,2),\n",
    "round(sum(Bucket4_2_YoY$YOY_1615Q2)*100,2),\n",
    "round(sum(Bucket4_2_YoY$YOY_1615Q3)*100,2),\n",
    "round(sum(Bucket4_2_YoY$YOY_1615Q4)*100,2),\n",
    "round(sum(Bucket4_2_YoY$YOY_1716Q1)*100,2),\n",
    "round(sum(Bucket4_2_YoY$YOY_1716Q2)*100,2),\n",
    "round(sum(Bucket4_2_YoY$YOY_1716Q3)*100,2)\n",
    ")\n",
    "Bucket4_YoY_2 <-data.frame(Bucket4_Qtr,Bucket4_YoY) \n",
    "ggplot(Bucket4_YoY_2,aes(x =Bucket4_Qtr,y=Bucket4_YoY,group=1))+\n",
    "geom_line(size =0.2)+\n",
    "geom_point(size =0.4)+\n",
    "theme_minimal()+ theme(legend.title=element_blank()) + scale_color_manual(values=c(\"#f4a900\", \"#548d3d\"))+ \n",
    "theme(title =element_text(size=8))+ theme(legend.position=\"bottom\")+\n",
    "theme(axis.text.x = element_text(colour=\"grey20\",size=7),axis.text.y = element_text(colour=\"grey20\",size=7))+\n",
    "labs(title = \" YoY growth in Bucket4 (Between $100M to $1B Reimbursemet in last 11 Quarters)\",x=\"Quarters\",y=\"YoY growth in spend\")\n",
    "\n",
    "Bucket5_2_YoY<-Bucket5 %>%\n",
    "mutate(\n",
    "       YOY_1615Q1= ((X2016Q1-X2015Q1)/X2015Q1)*((X2015Q1+X2016Q1)/sum(X2015Q1+X2016Q1)),\n",
    "       YOY_1615Q2= ((X2016Q2-X2015Q2)/X2015Q2)*((X2015Q2+X2016Q2)/sum(X2015Q2+X2016Q2)),\n",
    "       YOY_1615Q3= ((X2016Q3-X2015Q3)/X2015Q3)*((X2015Q3+X2016Q3)/sum(X2015Q3+X2016Q3)),\n",
    "       YOY_1615Q4= ((X2016Q4-X2015Q4)/X2015Q4)*((X2015Q4+X2016Q4)/sum(X2015Q4+X2016Q4)),\n",
    "       YOY_1716Q1= ((X2017Q1-X2016Q1)/X2016Q1)*((X2016Q1+X2017Q1)/sum(X2016Q1+X2017Q1)),\n",
    "       YOY_1716Q2= ((X2017Q2-X2016Q2)/X2016Q2)*((X2016Q2+X2017Q2)/sum(X2016Q2+X2017Q2)),\n",
    "       YOY_1716Q3= ((X2017Q3-X2016Q3)/X2016Q3)*((X2016Q3+X2017Q3)/sum(X2016Q3+X2017Q3))\n",
    "      )\n",
    "\n",
    "Bucket5_Qtr<- c(\"2016Q1\",\"2016Q2\",\"2016Q3\",\"2016Q4\",\"2017Q1\",\"2017Q2\",\"2017Q3\")\n",
    "Bucket5_YoY<-c(\n",
    "round(sum(Bucket5_2_YoY$YOY_1615Q1)*100,2),\n",
    "round(sum(Bucket5_2_YoY$YOY_1615Q2)*100,2),\n",
    "round(sum(Bucket5_2_YoY$YOY_1615Q3)*100,2),\n",
    "round(sum(Bucket5_2_YoY$YOY_1615Q4)*100,2),\n",
    "round(sum(Bucket5_2_YoY$YOY_1716Q1)*100,2),\n",
    "round(sum(Bucket5_2_YoY$YOY_1716Q2)*100,2),\n",
    "round(sum(Bucket5_2_YoY$YOY_1716Q3)*100,2)\n",
    ")\n",
    "Bucket5_YoY_2 <-data.frame(Bucket5_Qtr,Bucket5_YoY) \n",
    "ggplot(Bucket5_YoY_2,aes(x =Bucket5_Qtr,y=Bucket5_YoY,group=1))+\n",
    "geom_line(size =0.2)+\n",
    "geom_point(size =0.4)+\n",
    "theme_minimal()+ theme(legend.title=element_blank()) + scale_color_manual(values=c(\"#f4a900\", \"#548d3d\"))+ \n",
    "theme(title =element_text(size=8))+ theme(legend.position=\"bottom\")+\n",
    "theme(axis.text.x = element_text(colour=\"grey20\",size=7),axis.text.y = element_text(colour=\"grey20\",size=7))+\n",
    "labs(title = \" YoY growth in Bucket5 (Between $1B to $50B Reimbursemet in last 11 Quarters) \",x=\"Quarters\",y=\"YoY growth in spend\")\n"
   ]
  },
  {
   "cell_type": "markdown",
   "metadata": {},
   "source": [
    "#### Spend Buckets and thier behaviours: \n",
    "Bucket 1 Companies (0 - 1M): Trend is increasing from 2016'Q4 to 17'Q3\n",
    "\n",
    "Bucket 2 Companies (1M - 10M): Huge drop in 16'Q2 and increased from 16'Q4 to 17'Q2\n",
    "\n",
    "Bucket 3 Companies (10M - 50M): Huge spike in 17'Q1 and dropped in 17'Q2.17'Q3 is showing huge increase.\n",
    "\n",
    "Bucket "
   ]
  },
  {
   "cell_type": "markdown",
   "metadata": {},
   "source": [
    "##### REGION ANALYSIS"
   ]
  },
  {
   "cell_type": "code",
   "execution_count": null,
   "metadata": {},
   "outputs": [],
   "source": [
    "ExpenseIndex_Geo_YoY <-ExpenseIndex_Geo%>%group_by(GEO)%>%\n",
    "mutate(YOY_1615Q1= ((X2016Q1-X2015Q1)/X2015Q1)*((X2015Q1+X2016Q1)/sum(X2015Q1+X2016Q1)),\n",
    "       YOY_1615Q2= ((X2016Q2-X2015Q2)/X2015Q2)*((X2015Q2+X2016Q2)/sum(X2015Q2+X2016Q2)),\n",
    "       YOY_1615Q3= ((X2016Q3-X2015Q3)/X2015Q3)*((X2015Q3+X2016Q3)/sum(X2015Q3+X2016Q3)),\n",
    "       YOY_1615Q4= ((X2016Q4-X2015Q4)/X2015Q4)*((X2015Q4+X2016Q4)/sum(X2015Q4+X2016Q4)),\n",
    "       YOY_1716Q1= ((X2017Q1-X2016Q1)/X2016Q1)*((X2016Q1+X2017Q1)/sum(X2016Q1+X2017Q1)),\n",
    "       YOY_1716Q2= ((X2017Q2-X2016Q2)/X2016Q2)*((X2016Q2+X2017Q2)/sum(X2016Q2+X2017Q2)),\n",
    "       YOY_1716Q3= ((X2017Q3-X2016Q3)/X2016Q3)*((X2016Q3+X2017Q3)/sum(X2016Q3+X2017Q3))\n",
    "      )\n",
    "ExpenseIndex_Americas_YoY<- subset(ExpenseIndex_Geo_YoY,GEO =='AMERICAS')\n",
    "ExpenseIndex_APAC_YoY<- subset(ExpenseIndex_Geo_YoY,GEO =='APAC')\n",
    "ExpenseIndex_EMEA_YoY<- subset(ExpenseIndex_Geo_YoY,GEO =='EMEA')\n",
    "QtR<- c(\"2016Q1\",\"2016Q2\",\"2016Q3\",\"2016Q4\",\"2017Q1\",\"2017Q2\",\"2017Q3\",\n",
    "        \"2016Q1\",\"2016Q2\",\"2016Q3\",\"2016Q4\",\"2017Q1\",\"2017Q2\",\"2017Q3\",\n",
    "        \"2016Q1\",\"2016Q2\",\"2016Q3\",\"2016Q4\",\"2017Q1\",\"2017Q2\",\"2017Q3\")\n",
    "geo<-c(\"Americas\",\"Americas\",\"Americas\",\"Americas\",\"Americas\",\"Americas\",\"Americas\",\n",
    "       \"APAC\",\"APAC\",\"APAC\",\"APAC\",\"APAC\",\"APAC\",\"APAC\",\n",
    "        \"EMEA\",\"EMEA\",\"EMEA\",\"EMEA\",\"EMEA\",\"EMEA\",\"EMEA\")\n",
    "geo_YoY<-c(\n",
    "round(sum(ExpenseIndex_Americas_YoY$YOY_1615Q1)*100,2),\n",
    "round(sum(ExpenseIndex_Americas_YoY$YOY_1615Q2)*100,2),\n",
    "round(sum(ExpenseIndex_Americas_YoY$YOY_1615Q3)*100,2),\n",
    "round(sum(ExpenseIndex_Americas_YoY$YOY_1615Q4)*100,2),\n",
    "round(sum(ExpenseIndex_Americas_YoY$YOY_1716Q1)*100,2),\n",
    "round(sum(ExpenseIndex_Americas_YoY$YOY_1716Q2)*100,2),\n",
    "round(sum(ExpenseIndex_Americas_YoY$YOY_1716Q3)*100,2),\n",
    "round(sum(ExpenseIndex_APAC_YoY$YOY_1615Q1)*100,2),\n",
    "round(sum(ExpenseIndex_APAC_YoY$YOY_1615Q2)*100,2),\n",
    "round(sum(ExpenseIndex_APAC_YoY$YOY_1615Q3)*100,2),\n",
    "round(sum(ExpenseIndex_APAC_YoY$YOY_1615Q4)*100,2),\n",
    "round(sum(ExpenseIndex_APAC_YoY$YOY_1716Q1)*100,2),\n",
    "round(sum(ExpenseIndex_APAC_YoY$YOY_1716Q2)*100,2),\n",
    "round(sum(ExpenseIndex_APAC_YoY$YOY_1716Q3)*100,2),\n",
    "round(sum(ExpenseIndex_EMEA_YoY$YOY_1615Q1)*100,2),\n",
    "round(sum(ExpenseIndex_EMEA_YoY$YOY_1615Q2)*100,2),\n",
    "round(sum(ExpenseIndex_EMEA_YoY$YOY_1615Q3)*100,2),\n",
    "round(sum(ExpenseIndex_EMEA_YoY$YOY_1615Q4)*100,2),\n",
    "round(sum(ExpenseIndex_EMEA_YoY$YOY_1716Q1)*100,2),\n",
    "round(sum(ExpenseIndex_EMEA_YoY$YOY_1716Q2)*100,2),\n",
    "round(sum(ExpenseIndex_EMEA_YoY$YOY_1716Q3)*100,2)     \n",
    ")\n",
    "Weighted_Geo_YoY <-data.frame(QtR,geo,geo_YoY)"
   ]
  },
  {
   "cell_type": "code",
   "execution_count": 79,
   "metadata": {},
   "outputs": [
    {
     "data": {},
     "metadata": {},
     "output_type": "display_data"
    },
    {
     "data": {
      "image/png": "[encoded data removed]",
      "text/plain": [
       "plot without title"
      ]
     },
     "metadata": {},
     "output_type": "display_data"
    }
   ],
   "source": [
    "ggplot(Weighted_Geo_YoY,aes(x =QtR,y=geo_YoY,group=geo,color=geo))+\n",
    "geom_line(size =0.2)+\n",
    "geom_point(size =0.4)+\n",
    "theme_minimal()+ theme(legend.title=element_blank()) + \n",
    "theme(legend.text = element_text(size=5))+\n",
    "theme(title =element_text(size=8))+ theme(legend.position=\"bottom\")+\n",
    "theme(axis.text.x = element_text(colour=\"grey20\",size=7),axis.text.y = element_text(colour=\"grey20\",size=7))+\n",
    "labs(title = \" YoY growth in spend by Geo \",x=\"Quarters\",y=\"YoY growth in spend\")"
   ]
  },
  {
   "cell_type": "markdown",
   "metadata": {},
   "source": [
    "1. APAC & EMEA regions are rised in 17'Q3 compare to previous year.But AMERICAS is showing slightly drop in 17'Q3.\n",
    "2. EMEA & APAC are following the similar trend of overall YoY"
   ]
  }
 ],
 "metadata": {
  "kernelspec": {
   "display_name": "R",
   "language": "R",
   "name": "ir"
  },
  "language_info": {
   "codemirror_mode": "r",
   "file_extension": ".r",
   "mimetype": "text/x-r-source",
   "name": "R",
   "pygments_lexer": "r",
   "version": "3.4.2"
  }
 },
 "nbformat": 4,
 "nbformat_minor": 2
}
